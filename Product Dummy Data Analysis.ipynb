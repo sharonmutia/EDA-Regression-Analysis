{
 "cells": [
  {
   "cell_type": "markdown",
   "metadata": {},
   "source": [
    "# PRODUCT DUMMY DATA ANALYSIS"
   ]
  },
  {
   "cell_type": "markdown",
   "metadata": {},
   "source": [
    "In this analysis I chose to focus on the regression model to predict the amount paid by the 360th day."
   ]
  },
  {
   "cell_type": "markdown",
   "metadata": {},
   "source": [
    "## 1. Importing Relevant Libraries and Reading the Data"
   ]
  },
  {
   "cell_type": "code",
   "execution_count": 1,
   "metadata": {},
   "outputs": [],
   "source": [
    "import pandas as pd\n",
    "import numpy as np\n",
    "import seaborn as sns\n",
    "import matplotlib.pyplot as plt\n",
    "%matplotlib inline\n",
    "from sklearn import preprocessing\n",
    "from sklearn.model_selection import train_test_split\n",
    "from scipy.stats import f_oneway\n",
    "from statsmodels.stats.weightstats import ttest_ind"
   ]
  },
  {
   "cell_type": "code",
   "execution_count": 2,
   "metadata": {},
   "outputs": [],
   "source": [
    "df=pd.read_csv('Data Science assessment.csv',sep=',')"
   ]
  },
  {
   "cell_type": "markdown",
   "metadata": {},
   "source": [
    "## 2. Data Pre-Processing"
   ]
  },
  {
   "cell_type": "markdown",
   "metadata": {},
   "source": [
    "#### i.) General Observations"
   ]
  },
  {
   "cell_type": "markdown",
   "metadata": {},
   "source": [
    "\n",
    "The dataset contained 13 attributes and 9,195 observations.It was relatively clean since it had consistent column names, no missing data and appropriately initialized variables. \n"
   ]
  },
  {
   "cell_type": "code",
   "execution_count": 3,
   "metadata": {},
   "outputs": [
    {
     "data": {
      "text/plain": [
       "(9195, 13)"
      ]
     },
     "execution_count": 3,
     "metadata": {},
     "output_type": "execute_result"
    }
   ],
   "source": [
    "#Getting the number of observations/ amount of data\n",
    "\n",
    "df.shape"
   ]
  },
  {
   "cell_type": "code",
   "execution_count": 4,
   "metadata": {},
   "outputs": [
    {
     "data": {
      "text/plain": [
       "Index(['Product', 'CustomerGender', 'Location', 'Region', 'TotalPrice',\n",
       "       'StartDate', 'Deposit', 'DailyRate', 'TotalDays', 'AmountPaid30',\n",
       "       'AmountPaid60', 'AmountPaid360', 'LoanStatus360'],\n",
       "      dtype='object')"
      ]
     },
     "execution_count": 4,
     "metadata": {},
     "output_type": "execute_result"
    }
   ],
   "source": [
    "#Discovering the attributes of the data and ensuring consistency of column names\n",
    "\n",
    "df.columns\n"
   ]
  },
  {
   "cell_type": "code",
   "execution_count": 5,
   "metadata": {
    "scrolled": true
   },
   "outputs": [
    {
     "data": {
      "text/plain": [
       "Product           0\n",
       "CustomerGender    0\n",
       "Location          0\n",
       "Region            0\n",
       "TotalPrice        0\n",
       "StartDate         0\n",
       "Deposit           0\n",
       "DailyRate         0\n",
       "TotalDays         0\n",
       "AmountPaid30      0\n",
       "AmountPaid60      0\n",
       "AmountPaid360     0\n",
       "LoanStatus360     0\n",
       "dtype: int64"
      ]
     },
     "execution_count": 5,
     "metadata": {},
     "output_type": "execute_result"
    }
   ],
   "source": [
    "#Checking for missing values\n",
    "df.isnull().sum()\n"
   ]
  },
  {
   "cell_type": "code",
   "execution_count": 6,
   "metadata": {
    "scrolled": false
   },
   "outputs": [
    {
     "name": "stdout",
     "output_type": "stream",
     "text": [
      "<class 'pandas.core.frame.DataFrame'>\n",
      "RangeIndex: 9195 entries, 0 to 9194\n",
      "Data columns (total 13 columns):\n",
      "Product           9195 non-null object\n",
      "CustomerGender    9195 non-null object\n",
      "Location          9195 non-null object\n",
      "Region            9195 non-null object\n",
      "TotalPrice        9195 non-null int64\n",
      "StartDate         9195 non-null object\n",
      "Deposit           9195 non-null int64\n",
      "DailyRate         9195 non-null int64\n",
      "TotalDays         9195 non-null int64\n",
      "AmountPaid30      9195 non-null int64\n",
      "AmountPaid60      9195 non-null int64\n",
      "AmountPaid360     9195 non-null int64\n",
      "LoanStatus360     9195 non-null object\n",
      "dtypes: int64(7), object(6)\n",
      "memory usage: 933.9+ KB\n"
     ]
    }
   ],
   "source": [
    "#Checking that variables are initialized as the appropriate data types\n",
    "\n",
    "df.info()"
   ]
  },
  {
   "cell_type": "markdown",
   "metadata": {},
   "source": [
    "#### ii.) Variable Specific Observations"
   ]
  },
  {
   "cell_type": "markdown",
   "metadata": {},
   "source": [
    "Further investigation of the data set revealed the following:\n",
    "\n",
    "##### a.) Total Days Variable\n",
    "\n",
    "The ‘Total Days’ variable was constant across all customers thus could not explain any variations across customers. As a result, I dropped the variable. Likewise, the  ‘Start Date’ variable didn't add much information since the 30 day, 60 day and 360 day amount paid columns captured customers payment information for the specified number of days regardless of the customers start date.\n",
    "\n",
    "##### b.) Customer Gender Variable\n",
    "\n",
    "The ‘Customer Gender’ column included an inappropriate value- ‘Not Specified’. These values were transformed into either male or female based on the total price of the product purchased by the customer. Analysis of the total price paid across gender revealed that there was a slight difference between the price paid by men and that paid by women.\n",
    "\n",
    "##### c.) Region & Location Variables\n",
    "\n",
    "The location variable contained very many unique observations which would hinder the creation of a parsimonious model. As a result, I dropped the variable and used the region variable instead since it still captured information on the location of the customers(a region is made up of numerous locations).\n",
    "\n",
    "##### d.) Payment Plan (Product,Total Price, Daily Rate & Deposit Variables)\n",
    "\n",
    "The total price of a product depended on the payment plan which a customer chose- i.e the deposit amount paid and the daily rate to be paid. Though most products had payment plans, product B only had a single payment plan."
   ]
  },
  {
   "cell_type": "code",
   "execution_count": 7,
   "metadata": {
    "scrolled": true
   },
   "outputs": [
    {
     "data": {
      "text/html": [
       "<div>\n",
       "<style scoped>\n",
       "    .dataframe tbody tr th:only-of-type {\n",
       "        vertical-align: middle;\n",
       "    }\n",
       "\n",
       "    .dataframe tbody tr th {\n",
       "        vertical-align: top;\n",
       "    }\n",
       "\n",
       "    .dataframe thead th {\n",
       "        text-align: right;\n",
       "    }\n",
       "</style>\n",
       "<table border=\"1\" class=\"dataframe\">\n",
       "  <thead>\n",
       "    <tr style=\"text-align: right;\">\n",
       "      <th></th>\n",
       "      <th>Product</th>\n",
       "      <th>CustomerGender</th>\n",
       "      <th>Location</th>\n",
       "      <th>Region</th>\n",
       "      <th>TotalPrice</th>\n",
       "      <th>StartDate</th>\n",
       "      <th>Deposit</th>\n",
       "      <th>DailyRate</th>\n",
       "      <th>TotalDays</th>\n",
       "      <th>AmountPaid30</th>\n",
       "      <th>AmountPaid60</th>\n",
       "      <th>AmountPaid360</th>\n",
       "      <th>LoanStatus360</th>\n",
       "    </tr>\n",
       "  </thead>\n",
       "  <tbody>\n",
       "    <tr>\n",
       "      <th>1259</th>\n",
       "      <td>Product D</td>\n",
       "      <td>Male</td>\n",
       "      <td>Location 135</td>\n",
       "      <td>Region 1</td>\n",
       "      <td>20250</td>\n",
       "      <td>9/13/2013</td>\n",
       "      <td>2000</td>\n",
       "      <td>50</td>\n",
       "      <td>365</td>\n",
       "      <td>3401</td>\n",
       "      <td>4801</td>\n",
       "      <td>15851</td>\n",
       "      <td>Active</td>\n",
       "    </tr>\n",
       "    <tr>\n",
       "      <th>7762</th>\n",
       "      <td>Product B</td>\n",
       "      <td>Male</td>\n",
       "      <td>Location 25</td>\n",
       "      <td>Region 3</td>\n",
       "      <td>16600</td>\n",
       "      <td>4/18/2015</td>\n",
       "      <td>2000</td>\n",
       "      <td>40</td>\n",
       "      <td>365</td>\n",
       "      <td>4601</td>\n",
       "      <td>4601</td>\n",
       "      <td>16600</td>\n",
       "      <td>Finished Payment</td>\n",
       "    </tr>\n",
       "    <tr>\n",
       "      <th>5543</th>\n",
       "      <td>Product B</td>\n",
       "      <td>Female</td>\n",
       "      <td>Location 45</td>\n",
       "      <td>Region 3</td>\n",
       "      <td>16600</td>\n",
       "      <td>11/14/2014</td>\n",
       "      <td>2000</td>\n",
       "      <td>40</td>\n",
       "      <td>365</td>\n",
       "      <td>3010</td>\n",
       "      <td>3630</td>\n",
       "      <td>6990</td>\n",
       "      <td>Active</td>\n",
       "    </tr>\n",
       "    <tr>\n",
       "      <th>6291</th>\n",
       "      <td>Product C</td>\n",
       "      <td>Female</td>\n",
       "      <td>Location 202</td>\n",
       "      <td>Region 13</td>\n",
       "      <td>13775</td>\n",
       "      <td>1/10/2014</td>\n",
       "      <td>1000</td>\n",
       "      <td>35</td>\n",
       "      <td>365</td>\n",
       "      <td>2315</td>\n",
       "      <td>3390</td>\n",
       "      <td>12500</td>\n",
       "      <td>Active</td>\n",
       "    </tr>\n",
       "    <tr>\n",
       "      <th>2073</th>\n",
       "      <td>Product B</td>\n",
       "      <td>Female</td>\n",
       "      <td>Location 50</td>\n",
       "      <td>Region 1</td>\n",
       "      <td>16600</td>\n",
       "      <td>3/17/2015</td>\n",
       "      <td>2000</td>\n",
       "      <td>40</td>\n",
       "      <td>365</td>\n",
       "      <td>3321</td>\n",
       "      <td>4301</td>\n",
       "      <td>14331</td>\n",
       "      <td>Active</td>\n",
       "    </tr>\n",
       "  </tbody>\n",
       "</table>\n",
       "</div>"
      ],
      "text/plain": [
       "        Product CustomerGender      Location     Region  TotalPrice  \\\n",
       "1259  Product D           Male  Location 135   Region 1       20250   \n",
       "7762  Product B           Male   Location 25   Region 3       16600   \n",
       "5543  Product B         Female   Location 45   Region 3       16600   \n",
       "6291  Product C         Female  Location 202  Region 13       13775   \n",
       "2073  Product B         Female   Location 50   Region 1       16600   \n",
       "\n",
       "       StartDate  Deposit  DailyRate  TotalDays  AmountPaid30  AmountPaid60  \\\n",
       "1259   9/13/2013     2000         50        365          3401          4801   \n",
       "7762   4/18/2015     2000         40        365          4601          4601   \n",
       "5543  11/14/2014     2000         40        365          3010          3630   \n",
       "6291   1/10/2014     1000         35        365          2315          3390   \n",
       "2073   3/17/2015     2000         40        365          3321          4301   \n",
       "\n",
       "      AmountPaid360     LoanStatus360  \n",
       "1259          15851            Active  \n",
       "7762          16600  Finished Payment  \n",
       "5543           6990            Active  \n",
       "6291          12500            Active  \n",
       "2073          14331            Active  "
      ]
     },
     "execution_count": 7,
     "metadata": {},
     "output_type": "execute_result"
    }
   ],
   "source": [
    "#Viewing sample data points\n",
    "\n",
    "df.sample(5)"
   ]
  },
  {
   "cell_type": "markdown",
   "metadata": {},
   "source": [
    "##### a.) Total Days"
   ]
  },
  {
   "cell_type": "code",
   "execution_count": 8,
   "metadata": {},
   "outputs": [
    {
     "data": {
      "text/plain": [
       "array([365], dtype=int64)"
      ]
     },
     "execution_count": 8,
     "metadata": {},
     "output_type": "execute_result"
    }
   ],
   "source": [
    "#Investigating the TotalDays variable\n",
    "\n",
    "df['TotalDays'].unique()"
   ]
  },
  {
   "cell_type": "code",
   "execution_count": 9,
   "metadata": {},
   "outputs": [],
   "source": [
    "#Dropping the TotalDays and StartDate Variable\n",
    "\n",
    "df = df.drop(['TotalDays','StartDate'], axis=1)"
   ]
  },
  {
   "cell_type": "markdown",
   "metadata": {},
   "source": [
    "##### b.) Gender"
   ]
  },
  {
   "cell_type": "code",
   "execution_count": 10,
   "metadata": {
    "scrolled": false
   },
   "outputs": [
    {
     "data": {
      "text/plain": [
       "Male            5358\n",
       "Female          3290\n",
       "NotSpecified     547\n",
       "Name: CustomerGender, dtype: int64"
      ]
     },
     "execution_count": 10,
     "metadata": {},
     "output_type": "execute_result"
    }
   ],
   "source": [
    "#Investigating the Gender Variable\n",
    "\n",
    "df['CustomerGender'].value_counts()"
   ]
  },
  {
   "cell_type": "code",
   "execution_count": 11,
   "metadata": {},
   "outputs": [
    {
     "data": {
      "image/png": "[encoded data removed]",
      "text/plain": [
       "<Figure size 432x288 with 1 Axes>"
      ]
     },
     "metadata": {},
     "output_type": "display_data"
    }
   ],
   "source": [
    "sns.set(style=\"darkgrid\")\n",
    "ax = sns.countplot(x=\"CustomerGender\", data=df)"
   ]
  },
  {
   "cell_type": "code",
   "execution_count": 12,
   "metadata": {},
   "outputs": [],
   "source": [
    "#Replacing the 'NotSpecified' value with null values\n",
    "\n",
    "df['CustomerGender']=df.loc[:,['CustomerGender']].replace('NotSpecified', np.nan)"
   ]
  },
  {
   "cell_type": "code",
   "execution_count": 13,
   "metadata": {
    "scrolled": true
   },
   "outputs": [
    {
     "data": {
      "text/plain": [
       "Male      5358\n",
       "Female    3290\n",
       "Name: CustomerGender, dtype: int64"
      ]
     },
     "execution_count": 13,
     "metadata": {},
     "output_type": "execute_result"
    }
   ],
   "source": [
    "#checking if the values have transformed to null\n",
    "\n",
    "df['CustomerGender'].value_counts()"
   ]
  },
  {
   "cell_type": "code",
   "execution_count": 14,
   "metadata": {
    "scrolled": true
   },
   "outputs": [
    {
     "data": {
      "text/plain": [
       "Product             0\n",
       "CustomerGender    547\n",
       "Location            0\n",
       "Region              0\n",
       "TotalPrice          0\n",
       "Deposit             0\n",
       "DailyRate           0\n",
       "AmountPaid30        0\n",
       "AmountPaid60        0\n",
       "AmountPaid360       0\n",
       "LoanStatus360       0\n",
       "dtype: int64"
      ]
     },
     "execution_count": 14,
     "metadata": {},
     "output_type": "execute_result"
    }
   ],
   "source": [
    "#checking if the values have transformed to null\n",
    "\n",
    "df.isnull().sum()"
   ]
  },
  {
   "cell_type": "code",
   "execution_count": 15,
   "metadata": {},
   "outputs": [
    {
     "data": {
      "text/plain": [
       "<matplotlib.axes._subplots.AxesSubplot at 0x2180577e400>"
      ]
     },
     "execution_count": 15,
     "metadata": {},
     "output_type": "execute_result"
    },
    {
     "data": {
      "image/png": "[encoded data removed]",
      "text/plain": [
       "<Figure size 432x288 with 1 Axes>"
      ]
     },
     "metadata": {},
     "output_type": "display_data"
    }
   ],
   "source": [
    "sns.heatmap(df.isnull(),yticklabels=False,cbar=False,cmap='viridis')"
   ]
  },
  {
   "cell_type": "code",
   "execution_count": 16,
   "metadata": {
    "scrolled": false
   },
   "outputs": [
    {
     "data": {
      "text/plain": [
       "CustomerGender\n",
       "Male      19641.843972\n",
       "Female    19258.404255\n",
       "Name: TotalPrice, dtype: float64"
      ]
     },
     "execution_count": 16,
     "metadata": {},
     "output_type": "execute_result"
    }
   ],
   "source": [
    "#Checking for differences between male and female attributes\n",
    "\n",
    "df.groupby(['CustomerGender']).TotalPrice.mean().sort_values(ascending=False)"
   ]
  },
  {
   "cell_type": "code",
   "execution_count": 17,
   "metadata": {
    "scrolled": true
   },
   "outputs": [],
   "source": [
    "#Filling null values with the mode gender based on the Total Price of the product purchased\n",
    "\n",
    "df['CustomerGender'].fillna(df.groupby('TotalPrice').CustomerGender.transform(lambda x: x.fillna(x.mode()[0])),inplace=True)"
   ]
  },
  {
   "cell_type": "code",
   "execution_count": 18,
   "metadata": {
    "scrolled": false
   },
   "outputs": [
    {
     "data": {
      "text/plain": [
       "Product           0\n",
       "CustomerGender    0\n",
       "Location          0\n",
       "Region            0\n",
       "TotalPrice        0\n",
       "Deposit           0\n",
       "DailyRate         0\n",
       "AmountPaid30      0\n",
       "AmountPaid60      0\n",
       "AmountPaid360     0\n",
       "LoanStatus360     0\n",
       "dtype: int64"
      ]
     },
     "execution_count": 18,
     "metadata": {},
     "output_type": "execute_result"
    }
   ],
   "source": [
    "df.isnull().sum()"
   ]
  },
  {
   "cell_type": "code",
   "execution_count": 19,
   "metadata": {},
   "outputs": [
    {
     "data": {
      "text/plain": [
       "Male      5366\n",
       "Female    3829\n",
       "Name: CustomerGender, dtype: int64"
      ]
     },
     "execution_count": 19,
     "metadata": {},
     "output_type": "execute_result"
    }
   ],
   "source": [
    "df['CustomerGender'].value_counts()"
   ]
  },
  {
   "cell_type": "markdown",
   "metadata": {},
   "source": [
    "##### c.) Location & Region"
   ]
  },
  {
   "cell_type": "code",
   "execution_count": 20,
   "metadata": {},
   "outputs": [
    {
     "data": {
      "text/plain": [
       "array(['Region 2', 'Region 3', 'Region 5', 'Region 1', 'Region 6',\n",
       "       'Region 4', 'Region 7', 'Region 10', 'Region 11', 'Region 9',\n",
       "       'Region 12', 'Region 8', 'Region 13', 'Region 14', 'Region 15',\n",
       "       'Region 16', 'Region 17', 'Region 18'], dtype=object)"
      ]
     },
     "execution_count": 20,
     "metadata": {},
     "output_type": "execute_result"
    }
   ],
   "source": [
    "#Investigating the Region and Location Variables\n",
    "\n",
    "df['Region'].unique()"
   ]
  },
  {
   "cell_type": "code",
   "execution_count": 21,
   "metadata": {},
   "outputs": [
    {
     "data": {
      "text/plain": [
       "array(['Location 2', 'Location 3', 'Location 5', 'Location 6',\n",
       "       'Location 7', 'Location 10', 'Location 11', 'Location 12',\n",
       "       'Location 13', 'Location 15', 'Location 16', 'Location 17',\n",
       "       'Location 19', 'Location 23', 'Location 27', 'Location 25',\n",
       "       'Location 26', 'Location 29', 'Location 30', 'Location 31',\n",
       "       'Location 33', 'Location 34', 'Location 35', 'Location 37',\n",
       "       'Location 38', 'Location 39', 'Location 40', 'Location 41',\n",
       "       'Location 42', 'Location 22', 'Location 43', 'Location 46',\n",
       "       'Location 47', 'Location 50', 'Location 52', 'Location 53',\n",
       "       'Location 54', 'Location 44', 'Location 56', 'Location 57',\n",
       "       'Location 59', 'Location 60', 'Location 61', 'Location 62',\n",
       "       'Location 64', 'Location 65', 'Location 66', 'Location 68',\n",
       "       'Location 70', 'Location 72', 'Location 20', 'Location 73',\n",
       "       'Location 75', 'Location 76', 'Location 77', 'Location 4',\n",
       "       'Location 78', 'Location 79', 'Location 80', 'Location 81',\n",
       "       'Location 82', 'Location 32', 'Location 84', 'Location 87',\n",
       "       'Location 49', 'Location 89', 'Location 90', 'Location 91',\n",
       "       'Location 94', 'Location 97', 'Location 98', 'Location 18',\n",
       "       'Location 86', 'Location 101', 'Location 9', 'Location 102',\n",
       "       'Location 105', 'Location 88', 'Location 106', 'Location 21',\n",
       "       'Location 107', 'Location 110', 'Location 111', 'Location 112',\n",
       "       'Location 113', 'Location 114', 'Location 115', 'Location 117',\n",
       "       'Location 118', 'Location 122', 'Location 123', 'Location 124',\n",
       "       'Location 125', 'Location 58', 'Location 127', 'Location 48',\n",
       "       'Location 135', 'Location 136', 'Location 24', 'Location 137',\n",
       "       'Location 28', 'Location 138', 'Location 139', 'Location 140',\n",
       "       'Location 67', 'Location 141', 'Location 142', 'Location 45',\n",
       "       'Location 8', 'Location 143', 'Location 145', 'Location 1',\n",
       "       'Location 149', 'Location 152', 'Location 153', 'Location 155',\n",
       "       'Location 156', 'Location 157', 'Location 158', 'Location 159',\n",
       "       'Location 160', 'Location 144', 'Location 109', 'Location 166',\n",
       "       'Location 168', 'Location 74', 'Location 169', 'Location 172',\n",
       "       'Location 69', 'Location 173', 'Location 174', 'Location 175',\n",
       "       'Location 129', 'Location 178', 'Location 181', 'Location 182',\n",
       "       'Location 184', 'Location 185', 'Location 186', 'Location 187',\n",
       "       'Location 146', 'Location 192', 'Location 193', 'Location 194',\n",
       "       'Location 195', 'Location 196', 'Location 197', 'Location 198',\n",
       "       'Location 199', 'Location 200', 'Location 104', 'Location 95',\n",
       "       'Location 201', 'Location 203', 'Location 204', 'Location 206',\n",
       "       'Location 207', 'Location 209', 'Location 202', 'Location 212',\n",
       "       'Location 216', 'Location 217', 'Location 179', 'Location 214',\n",
       "       'Location 218', 'Location 108', 'Location 219', 'Location 220',\n",
       "       'Location 222', 'Location 224', 'Location 225', 'Location 226',\n",
       "       'Location 63', 'Location 229', 'Location 133', 'Location 230',\n",
       "       'Location 231', 'Location 234', 'Location 237', 'Location 238',\n",
       "       'Location 239', 'Location 240', 'Location 242', 'Location 243',\n",
       "       'Location 244', 'Location 246', 'Location 247', 'Location 248',\n",
       "       'Location 250', 'Location 252', 'Location 254', 'Location 255',\n",
       "       'Location 256', 'Location 257', 'Location 258', 'Location 259',\n",
       "       'Location 116', 'Location 260', 'Location 265', 'Location 266',\n",
       "       'Location 268', 'Location 269', 'Location 245', 'Location 188',\n",
       "       'Location 273', 'Location 274', 'Location 277', 'Location 280',\n",
       "       'Location 281', 'Location 282', 'Location 283', 'Location 284',\n",
       "       'Location 285', 'Location 286', 'Location 287', 'Location 288',\n",
       "       'Location 290', 'Location 291', 'Location 132', 'Location 293',\n",
       "       'Location 295', 'Location 120', 'Location 297', 'Location 298',\n",
       "       'Location 299', 'Location 300', 'Location 301', 'Location 134',\n",
       "       'Location 303', 'Location 305', 'Location 306', 'Location 308',\n",
       "       'Location 309', 'Location 310', 'Location 313', 'Location 316',\n",
       "       'Location 317', 'Location 318', 'Location 319', 'Location 320',\n",
       "       'Location 321', 'Location 165', 'Location 322', 'Location 323',\n",
       "       'Location 324', 'Location 326', 'Location 327', 'Location 328',\n",
       "       'Location 329', 'Location 208', 'Location 330', 'Location 126',\n",
       "       'Location 177', 'Location 189', 'Location 335', 'Location 336',\n",
       "       'Location 338', 'Location 85', 'Location 342', 'Location 343',\n",
       "       'Location 344', 'Location 348', 'Location 349', 'Location 350',\n",
       "       'Location 353', 'Location 354', 'Location 355', 'Location 357',\n",
       "       'Location 191', 'Location 358', 'Location 359', 'Location 363',\n",
       "       'Location 364', 'Location 365', 'Location 366', 'Location 367',\n",
       "       'Location 369', 'Location 370', 'Location 71', 'Location 302',\n",
       "       'Location 372', 'Location 373', 'Location 377', 'Location 378',\n",
       "       'Location 128', 'Location 384', 'Location 386', 'Location 387',\n",
       "       'Location 296', 'Location 270', 'Location 351', 'Location 389',\n",
       "       'Location 392', 'Location 393', 'Location 171', 'Location 395',\n",
       "       'Location 399', 'Location 227', 'Location 93', 'Location 211',\n",
       "       'Location 402', 'Location 403', 'Location 404', 'Location 406',\n",
       "       'Location 407', 'Location 408', 'Location 409', 'Location 410',\n",
       "       'Location 411', 'Location 221', 'Location 412', 'Location 414',\n",
       "       'Location 36', 'Location 337', 'Location 131', 'Location 417',\n",
       "       'Location 418', 'Location 332', 'Location 334', 'Location 420',\n",
       "       'Location 421', 'Location 422', 'Location 368', 'Location 423',\n",
       "       'Location 426', 'Location 427', 'Location 352', 'Location 271',\n",
       "       'Location 267', 'Location 430', 'Location 263', 'Location 432',\n",
       "       'Location 433', 'Location 434', 'Location 100', 'Location 436',\n",
       "       'Location 233', 'Location 438', 'Location 439', 'Location 440',\n",
       "       'Location 442', 'Location 441', 'Location 444', 'Location 445',\n",
       "       'Location 446', 'Location 447', 'Location 391', 'Location 448',\n",
       "       'Location 450', 'Location 451', 'Location 452', 'Location 453',\n",
       "       'Location 455', 'Location 456', 'Location 457', 'Location 459',\n",
       "       'Location 307', 'Location 170', 'Location 251', 'Location 461',\n",
       "       'Location 462', 'Location 465', 'Location 466', 'Location 467',\n",
       "       'Location 469', 'Location 470', 'Location 471', 'Location 472',\n",
       "       'Location 374', 'Location 341', 'Location 476', 'Location 478',\n",
       "       'Location 479', 'Location 480', 'Location 483', 'Location 484',\n",
       "       'Location 487', 'Location 491', 'Location 272', 'Location 492',\n",
       "       'Location 493', 'Location 494', 'Location 477', 'Location 496',\n",
       "       'Location 497', 'Location 498', 'Location 103', 'Location 499',\n",
       "       'Location 501', 'Location 502', 'Location 253', 'Location 504',\n",
       "       'Location 210', 'Location 508', 'Location 509', 'Location 463',\n",
       "       'Location 513', 'Location 514', 'Location 516', 'Location 517',\n",
       "       'Location 518', 'Location 521', 'Location 522', 'Location 524',\n",
       "       'Location 495', 'Location 525', 'Location 416', 'Location 528',\n",
       "       'Location 530', 'Location 532', 'Location 534', 'Location 535',\n",
       "       'Location 536', 'Location 537', 'Location 538', 'Location 540',\n",
       "       'Location 542', 'Location 544', 'Location 545', 'Location 546',\n",
       "       'Location 549', 'Location 550', 'Location 551', 'Location 161',\n",
       "       'Location 552', 'Location 331', 'Location 553', 'Location 555',\n",
       "       'Location 556', 'Location 557', 'Location 558', 'Location 559',\n",
       "       'Location 405', 'Location 560', 'Location 561', 'Location 563',\n",
       "       'Location 564', 'Location 565', 'Location 568', 'Location 523',\n",
       "       'Location 570', 'Location 571', 'Location 577', 'Location 578',\n",
       "       'Location 314', 'Location 582', 'Location 583', 'Location 584',\n",
       "       'Location 119', 'Location 585', 'Location 586', 'Location 588',\n",
       "       'Location 590', 'Location 431', 'Location 592', 'Location 593',\n",
       "       'Location 594', 'Location 595', 'Location 598', 'Location 599',\n",
       "       'Location 262', 'Location 500', 'Location 601', 'Location 604',\n",
       "       'Location 605', 'Location 606', 'Location 607', 'Location 608',\n",
       "       'Location 609', 'Location 613', 'Location 614', 'Location 580',\n",
       "       'Location 616', 'Location 617', 'Location 618', 'Location 619',\n",
       "       'Location 443', 'Location 620', 'Location 621', 'Location 623',\n",
       "       'Location 625', 'Location 626', 'Location 628', 'Location 629',\n",
       "       'Location 630', 'Location 635', 'Location 638', 'Location 639',\n",
       "       'Location 643', 'Location 646', 'Location 649', 'Location 488',\n",
       "       'Location 650', 'Location 394', 'Location 345', 'Location 645',\n",
       "       'Location 652', 'Location 654', 'Location 235', 'Location 615',\n",
       "       'Location 655', 'Location 596', 'Location 437', 'Location 656',\n",
       "       'Location 657', 'Location 659', 'Location 660', 'Location 662',\n",
       "       'Location 663', 'Location 664', 'Location 665', 'Location 482',\n",
       "       'Location 529', 'Location 398', 'Location 669', 'Location 671',\n",
       "       'Location 673', 'Location 672', 'Location 675', 'Location 371',\n",
       "       'Location 627', 'Location 676', 'Location 677', 'Location 679',\n",
       "       'Location 569', 'Location 683', 'Location 685', 'Location 164',\n",
       "       'Location 475', 'Location 688', 'Location 689', 'Location 691',\n",
       "       'Location 692', 'Location 693', 'Location 695', 'Location 376',\n",
       "       'Location 696', 'Location 99', 'Location 698', 'Location 661',\n",
       "       'Location 380', 'Location 701', 'Location 515', 'Location 702',\n",
       "       'Location 703', 'Location 687', 'Location 704', 'Location 541',\n",
       "       'Location 707', 'Location 708', 'Location 709', 'Location 710',\n",
       "       'Location 711', 'Location 713', 'Location 714', 'Location 715',\n",
       "       'Location 603', 'Location 716', 'Location 717', 'Location 720',\n",
       "       'Location 721', 'Location 724', 'Location 725', 'Location 726',\n",
       "       'Location 730', 'Location 733', 'Location 279', 'Location 276',\n",
       "       'Location 633', 'Location 739', 'Location 520', 'Location 697',\n",
       "       'Location 503', 'Location 740', 'Location 741', 'Location 742',\n",
       "       'Location 743', 'Location 745', 'Location 746', 'Location 747',\n",
       "       'Location 587', 'Location 748', 'Location 750', 'Location 751',\n",
       "       'Location 753', 'Location 674', 'Location 686', 'Location 756',\n",
       "       'Location 752', 'Location 176', 'Location 215', 'Location 760',\n",
       "       'Location 642', 'Location 761', 'Location 762', 'Location 763',\n",
       "       'Location 764', 'Location 765', 'Location 766', 'Location 315',\n",
       "       'Location 768', 'Location 289', 'Location 51', 'Location 390',\n",
       "       'Location 772', 'Location 591', 'Location 774', 'Location 681',\n",
       "       'Location 775', 'Location 776', 'Location 339', 'Location 777',\n",
       "       'Location 778', 'Location 779', 'Location 782', 'Location 533',\n",
       "       'Location 784', 'Location 785', 'Location 55', 'Location 786',\n",
       "       'Location 787', 'Location 680', 'Location 788', 'Location 694',\n",
       "       'Location 474', 'Location 791', 'Location 644', 'Location 793',\n",
       "       'Location 794', 'Location 795', 'Location 428', 'Location 800',\n",
       "       'Location 460', 'Location 805', 'Location 807', 'Location 574',\n",
       "       'Location 228', 'Location 249', 'Location 264', 'Location 278',\n",
       "       'Location 312', 'Location 346', 'Location 347', 'Location 361',\n",
       "       'Location 294', 'Location 130', 'Location 381', 'Location 383',\n",
       "       'Location 396', 'Location 397', 'Location 401', 'Location 415',\n",
       "       'Location 419', 'Location 424', 'Location 425', 'Location 429',\n",
       "       'Location 435', 'Location 449', 'Location 360', 'Location 481',\n",
       "       'Location 485', 'Location 486', 'Location 490', 'Location 507',\n",
       "       'Location 519', 'Location 526', 'Location 527', 'Location 531',\n",
       "       'Location 539', 'Location 562', 'Location 567', 'Location 572',\n",
       "       'Location 575', 'Location 576', 'Location 581', 'Location 275',\n",
       "       'Location 610', 'Location 611', 'Location 304', 'Location 622',\n",
       "       'Location 624', 'Location 636', 'Location 723', 'Location 547',\n",
       "       'Location 727', 'Location 579', 'Location 732', 'Location 735',\n",
       "       'Location 543', 'Location 737', 'Location 261', 'Location 806',\n",
       "       'Location 14', 'Location 83', 'Location 92', 'Location 121',\n",
       "       'Location 147', 'Location 150', 'Location 151', 'Location 154',\n",
       "       'Location 163', 'Location 183', 'Location 190', 'Location 205',\n",
       "       'Location 213', 'Location 223', 'Location 232', 'Location 236',\n",
       "       'Location 241', 'Location 292', 'Location 311', 'Location 325',\n",
       "       'Location 333', 'Location 340', 'Location 356', 'Location 362',\n",
       "       'Location 375', 'Location 379', 'Location 382', 'Location 385',\n",
       "       'Location 388', 'Location 400', 'Location 413', 'Location 454',\n",
       "       'Location 458', 'Location 464', 'Location 468', 'Location 473',\n",
       "       'Location 489', 'Location 505', 'Location 506', 'Location 510',\n",
       "       'Location 511', 'Location 512', 'Location 180', 'Location 548',\n",
       "       'Location 554', 'Location 566', 'Location 573', 'Location 589',\n",
       "       'Location 597', 'Location 600', 'Location 602', 'Location 612',\n",
       "       'Location 631', 'Location 632', 'Location 634', 'Location 637',\n",
       "       'Location 641', 'Location 647', 'Location 648', 'Location 651',\n",
       "       'Location 653', 'Location 658', 'Location 670', 'Location 678',\n",
       "       'Location 682', 'Location 684', 'Location 699', 'Location 705',\n",
       "       'Location 706', 'Location 718', 'Location 719', 'Location 722',\n",
       "       'Location 728', 'Location 729', 'Location 731', 'Location 734',\n",
       "       'Location 736', 'Location 738', 'Location 749', 'Location 754',\n",
       "       'Location 758', 'Location 759', 'Location 767', 'Location 769',\n",
       "       'Location 770', 'Location 771', 'Location 690', 'Location 780',\n",
       "       'Location 781', 'Location 783', 'Location 792', 'Location 796',\n",
       "       'Location 797', 'Location 798', 'Location 799', 'Location 801',\n",
       "       'Location 802', 'Location 803', 'Location 804'], dtype=object)"
      ]
     },
     "execution_count": 21,
     "metadata": {},
     "output_type": "execute_result"
    }
   ],
   "source": [
    "#Determining the number of unique locations\n",
    "\n",
    "df['Location'].unique()"
   ]
  },
  {
   "cell_type": "code",
   "execution_count": 22,
   "metadata": {},
   "outputs": [
    {
     "data": {
      "text/plain": [
       "Region\n",
       "Region 6     2934\n",
       "Region 3     1941\n",
       "Region 2     1364\n",
       "Region 1     1232\n",
       "Region 7      622\n",
       "Region 4      588\n",
       "Region 5      198\n",
       "Region 13      62\n",
       "Region 8       44\n",
       "Region 12      39\n",
       "Region 10      38\n",
       "Region 9       33\n",
       "Region 14      25\n",
       "Region 15      22\n",
       "Region 18      16\n",
       "Region 17      14\n",
       "Region 11      12\n",
       "Region 16      11\n",
       "Name: Location, dtype: int64"
      ]
     },
     "execution_count": 22,
     "metadata": {},
     "output_type": "execute_result"
    }
   ],
   "source": [
    "#Locations in each region\n",
    "\n",
    "df.groupby(['Region']).Location.count().sort_values(ascending=False)"
   ]
  },
  {
   "cell_type": "code",
   "execution_count": 23,
   "metadata": {},
   "outputs": [
    {
     "data": {
      "text/plain": [
       "<Figure size 1440x1440 with 0 Axes>"
      ]
     },
     "execution_count": 23,
     "metadata": {},
     "output_type": "execute_result"
    },
    {
     "data": {
      "image/png": "[encoded data removed]",
      "text/plain": [
       "<Figure size 432x288 with 1 Axes>"
      ]
     },
     "metadata": {},
     "output_type": "display_data"
    },
    {
     "data": {
      "text/plain": [
       "<Figure size 1440x1440 with 0 Axes>"
      ]
     },
     "metadata": {},
     "output_type": "display_data"
    }
   ],
   "source": [
    "ax = sns.countplot(x=\"Region\", data=df)\n",
    "ax.set_title('Count of Locations in a Region')\n",
    "plt.figure(figsize=(20,20))"
   ]
  },
  {
   "cell_type": "markdown",
   "metadata": {},
   "source": [
    "from this visualization, we can see that the regional data is heavil imbalanced and may be problematic to model. I however didnt exclude the variable at the onset since it may be significant in explaining our dependent variable."
   ]
  },
  {
   "cell_type": "code",
   "execution_count": 24,
   "metadata": {},
   "outputs": [],
   "source": [
    "df=df.drop(['Location'],axis=1)"
   ]
  },
  {
   "cell_type": "markdown",
   "metadata": {},
   "source": [
    "#####  d.) Payment Plan (Product,Total Price, Daily Rate & Deposit Variables)"
   ]
  },
  {
   "cell_type": "code",
   "execution_count": 25,
   "metadata": {
    "scrolled": true
   },
   "outputs": [
    {
     "data": {
      "text/plain": [
       "Product    TotalPrice  DailyRate  Deposit\n",
       "Product A  19250       50         1000       [1000]\n",
       "           20250       50         2000       [2000]\n",
       "           20750       50         2500       [2500]\n",
       "           22250       50         4000       [4000]\n",
       "Product B  16600       40         2000       [2000]\n",
       "Product C  13775       35         1000       [1000]\n",
       "           15600       40         1000       [1000]\n",
       "Product D  16600       40         2000       [2000]\n",
       "           20250       50         2000       [2000]\n",
       "Product E  53625       125        8000       [8000]\n",
       "           54625       125        9000       [9000]\n",
       "Product F  69225       165        9000       [9000]\n",
       "Name: Deposit, dtype: object"
      ]
     },
     "execution_count": 25,
     "metadata": {},
     "output_type": "execute_result"
    }
   ],
   "source": [
    "#Discovering the product sale options\n",
    "\n",
    "df.groupby(['Product','TotalPrice','DailyRate','Deposit']).Deposit.unique()"
   ]
  },
  {
   "cell_type": "code",
   "execution_count": 26,
   "metadata": {},
   "outputs": [
    {
     "data": {
      "text/plain": [
       "Product    Deposit\n",
       "Product A  4000       1634\n",
       "           1000       1008\n",
       "           2000        340\n",
       "           2500        159\n",
       "Product B  2000       3862\n",
       "Product C  1000        999\n",
       "Product D  2000        975\n",
       "Product E  9000        211\n",
       "           8000          2\n",
       "Product F  9000          5\n",
       "Name: Deposit, dtype: int64"
      ]
     },
     "execution_count": 26,
     "metadata": {},
     "output_type": "execute_result"
    }
   ],
   "source": [
    "#Popularity of Deposit options across products\n",
    "\n",
    "df.groupby(['Product']).Deposit.value_counts()"
   ]
  },
  {
   "cell_type": "code",
   "execution_count": 27,
   "metadata": {},
   "outputs": [
    {
     "data": {
      "text/plain": [
       "Product    DailyRate\n",
       "Product A  50           3141\n",
       "Product B  40           3862\n",
       "Product C  40            937\n",
       "           35             62\n",
       "Product D  50            949\n",
       "           40             26\n",
       "Product E  125           213\n",
       "Product F  165             5\n",
       "Name: DailyRate, dtype: int64"
      ]
     },
     "execution_count": 27,
     "metadata": {},
     "output_type": "execute_result"
    }
   ],
   "source": [
    "# Daily Rate Options across Products\n",
    "\n",
    "df.groupby(['Product']).DailyRate.value_counts()"
   ]
  },
  {
   "cell_type": "markdown",
   "metadata": {},
   "source": [
    "## 3. Feature Engineering"
   ]
  },
  {
   "cell_type": "markdown",
   "metadata": {},
   "source": [
    "The target variable in this study is the loan amount paid. However using this variable as is may be misleading as it implies that customers who has paid the same amount are equally desirable without taking into consideration the total amount of the purchased product. For example, consider two customers who purchased 2 different products. Customer A purchased product C for Kshs.13,775 and customer B purchase product F for Kshs.69,225. Supposing the two customers each paid 6,922.50 toward their loan. Viewing the absolute amount paid would consider both customers equally desirable. However, in the business sense, customer A is preferred to customer B since the amount paid represents 50% of customer A’s purchase and only 10% of customer B’s purchase.\n",
    "\n",
    "Further, since the absolute value of the loan paid is not limited and can take on any amount, it would be possible to estimate an amount paid which is beyond the total price of a product. The latter would be erroneous since no one would be willing to pay more than the quoted price of a product in the real world.\n",
    "\n",
    "Similarly, the variables detailing the amounts paid by the 30th and 60th days were converted into percentage terms. The values were calculated as percentages of what was supposed to have been paid by the 30th and 60th days according to the payment plans and including the deposit. Comparing the amount paid by the amount required is better than comparing the amount paid to the total price as the latter gives us information about if the customer adheres to the payment plan or not. We are therefore able to estimate the amount a customer is likely to pay based on how well they adhere to the payment plan. As for the amount paid by the 360th day I compared the value with the total amount since some customers have finished their payments meaning that if I compared the amount paid by the 360th day to the amount required by that day, I would get a value greater than 100% which is undesirable.\n"
   ]
  },
  {
   "cell_type": "code",
   "execution_count": 28,
   "metadata": {},
   "outputs": [],
   "source": [
    "#Transforming the amount paid into percentage terms based on the required payment at the time\n",
    "\n",
    "df['AmtRequired30']=df['DailyRate']*30+df['Deposit']\n",
    "df['AmtRequired60']=df['DailyRate']*60+df['Deposit']\n",
    "\n",
    "df['PercPaid30'] =df['AmountPaid30']/df['AmtRequired30']\n",
    "df['PercPaid60'] =df['AmountPaid60']/df['AmtRequired60']"
   ]
  },
  {
   "cell_type": "code",
   "execution_count": 29,
   "metadata": {},
   "outputs": [],
   "source": [
    "#Transforming the amount paid into percentage terms based on the total price of the product\n",
    "\n",
    "df['PercPaid360'] = df.AmountPaid360/df.TotalPrice"
   ]
  },
  {
   "cell_type": "code",
   "execution_count": 30,
   "metadata": {
    "scrolled": false
   },
   "outputs": [
    {
     "data": {
      "text/html": [
       "<div>\n",
       "<style scoped>\n",
       "    .dataframe tbody tr th:only-of-type {\n",
       "        vertical-align: middle;\n",
       "    }\n",
       "\n",
       "    .dataframe tbody tr th {\n",
       "        vertical-align: top;\n",
       "    }\n",
       "\n",
       "    .dataframe thead th {\n",
       "        text-align: right;\n",
       "    }\n",
       "</style>\n",
       "<table border=\"1\" class=\"dataframe\">\n",
       "  <thead>\n",
       "    <tr style=\"text-align: right;\">\n",
       "      <th></th>\n",
       "      <th>Product</th>\n",
       "      <th>CustomerGender</th>\n",
       "      <th>Region</th>\n",
       "      <th>TotalPrice</th>\n",
       "      <th>Deposit</th>\n",
       "      <th>DailyRate</th>\n",
       "      <th>AmountPaid30</th>\n",
       "      <th>AmountPaid60</th>\n",
       "      <th>AmountPaid360</th>\n",
       "      <th>LoanStatus360</th>\n",
       "      <th>AmtRequired30</th>\n",
       "      <th>AmtRequired60</th>\n",
       "      <th>PercPaid30</th>\n",
       "      <th>PercPaid60</th>\n",
       "      <th>PercPaid360</th>\n",
       "    </tr>\n",
       "  </thead>\n",
       "  <tbody>\n",
       "    <tr>\n",
       "      <th>8481</th>\n",
       "      <td>Product D</td>\n",
       "      <td>Male</td>\n",
       "      <td>Region 15</td>\n",
       "      <td>20250</td>\n",
       "      <td>2000</td>\n",
       "      <td>50</td>\n",
       "      <td>6251</td>\n",
       "      <td>6251</td>\n",
       "      <td>20250</td>\n",
       "      <td>Finished Payment</td>\n",
       "      <td>3500</td>\n",
       "      <td>5000</td>\n",
       "      <td>1.786</td>\n",
       "      <td>1.2502</td>\n",
       "      <td>1.0</td>\n",
       "    </tr>\n",
       "  </tbody>\n",
       "</table>\n",
       "</div>"
      ],
      "text/plain": [
       "        Product CustomerGender     Region  TotalPrice  Deposit  DailyRate  \\\n",
       "8481  Product D           Male  Region 15       20250     2000         50   \n",
       "\n",
       "      AmountPaid30  AmountPaid60  AmountPaid360     LoanStatus360  \\\n",
       "8481          6251          6251          20250  Finished Payment   \n",
       "\n",
       "      AmtRequired30  AmtRequired60  PercPaid30  PercPaid60  PercPaid360  \n",
       "8481           3500           5000       1.786      1.2502          1.0  "
      ]
     },
     "execution_count": 30,
     "metadata": {},
     "output_type": "execute_result"
    }
   ],
   "source": [
    "df.loc[df['LoanStatus360']=='Finished Payment'].sample()"
   ]
  },
  {
   "cell_type": "code",
   "execution_count": 31,
   "metadata": {},
   "outputs": [],
   "source": [
    "df = df.drop(['AmountPaid30','AmountPaid60','AmountPaid360','AmtRequired30','AmtRequired60'], axis=1)"
   ]
  },
  {
   "cell_type": "code",
   "execution_count": 32,
   "metadata": {},
   "outputs": [
    {
     "data": {
      "text/plain": [
       "Index(['Product', 'CustomerGender', 'Region', 'TotalPrice', 'Deposit',\n",
       "       'DailyRate', 'LoanStatus360', 'PercPaid30', 'PercPaid60',\n",
       "       'PercPaid360'],\n",
       "      dtype='object')"
      ]
     },
     "execution_count": 32,
     "metadata": {},
     "output_type": "execute_result"
    }
   ],
   "source": [
    "df.columns"
   ]
  },
  {
   "cell_type": "markdown",
   "metadata": {},
   "source": [
    "## 4. Data Exploration and Hypothesis Test"
   ]
  },
  {
   "cell_type": "markdown",
   "metadata": {},
   "source": [
    "### i.) Categorical Data"
   ]
  },
  {
   "cell_type": "markdown",
   "metadata": {},
   "source": [
    "The categorical variables in the dataset are:\n",
    "    \n",
    "    a.) Products\n",
    "    b.) Customer Gender\n",
    "    c.) Region\n",
    "    d.) Loan Status"
   ]
  },
  {
   "cell_type": "code",
   "execution_count": 33,
   "metadata": {},
   "outputs": [
    {
     "data": {
      "text/plain": [
       "Index(['Product', 'CustomerGender', 'Region', 'TotalPrice', 'Deposit',\n",
       "       'DailyRate', 'LoanStatus360', 'PercPaid30', 'PercPaid60',\n",
       "       'PercPaid360'],\n",
       "      dtype='object')"
      ]
     },
     "execution_count": 33,
     "metadata": {},
     "output_type": "execute_result"
    }
   ],
   "source": [
    "df.columns"
   ]
  },
  {
   "cell_type": "markdown",
   "metadata": {},
   "source": [
    "#### a.) Products"
   ]
  },
  {
   "cell_type": "markdown",
   "metadata": {},
   "source": [
    "The products B and A were the most popular products purchased during the period under study. On the other hand, products E and F were the least desirable with only 5 units of product F sold. The latter may have been influenced by price since product F was the most expensive whereas product B was on the most affordable options.\n",
    "\n",
    "As per the 360th day, customers are expected to have completed 98.6% of their payments. However, the average percentage of payments made across products was way below this mark, with payments towards products A and F recording the worst performance.\n",
    "\n",
    "An Analysis of Variance (ANOVA) was carried out to see if the percentage of the loan paid across different products was statistically significant. The null and alternative hypothesis of the ANOVA are as follows:\n",
    "H0: there is no statistically significant difference in means of the samples.\n",
    "H1: there is a statistically significant difference at least one of means of the samples.\n",
    "\n",
    "The low p-value obtained means that we reject the null hypothesis that there is no statistical difference in the percentage of the loan paid across products. We therefore used this variable as an explanatory variable.\n"
   ]
  },
  {
   "cell_type": "code",
   "execution_count": 34,
   "metadata": {
    "scrolled": true
   },
   "outputs": [
    {
     "data": {
      "text/plain": [
       "Product B    3862\n",
       "Product A    3141\n",
       "Product C     999\n",
       "Product D     975\n",
       "Product E     213\n",
       "Product F       5\n",
       "Name: Product, dtype: int64"
      ]
     },
     "execution_count": 34,
     "metadata": {},
     "output_type": "execute_result"
    }
   ],
   "source": [
    "#Looking at the popularity of different products\n",
    "\n",
    "df.Product.value_counts()"
   ]
  },
  {
   "cell_type": "code",
   "execution_count": 35,
   "metadata": {},
   "outputs": [
    {
     "data": {
      "text/plain": [
       "Text(0.5, 1.0, 'Product Popularity')"
      ]
     },
     "execution_count": 35,
     "metadata": {},
     "output_type": "execute_result"
    },
    {
     "data": {
      "image/png": "[encoded data removed]",
      "text/plain": [
       "<Figure size 432x288 with 1 Axes>"
      ]
     },
     "metadata": {},
     "output_type": "display_data"
    }
   ],
   "source": [
    "ax = sns.countplot(x=\"Product\", data=df)\n",
    "ax.set_title('Product Popularity')"
   ]
  },
  {
   "cell_type": "code",
   "execution_count": 36,
   "metadata": {},
   "outputs": [
    {
     "data": {
      "text/html": [
       "<div>\n",
       "<style scoped>\n",
       "    .dataframe tbody tr th:only-of-type {\n",
       "        vertical-align: middle;\n",
       "    }\n",
       "\n",
       "    .dataframe tbody tr th {\n",
       "        vertical-align: top;\n",
       "    }\n",
       "\n",
       "    .dataframe thead th {\n",
       "        text-align: right;\n",
       "    }\n",
       "</style>\n",
       "<table border=\"1\" class=\"dataframe\">\n",
       "  <thead>\n",
       "    <tr style=\"text-align: right;\">\n",
       "      <th></th>\n",
       "      <th>TotalPrice</th>\n",
       "    </tr>\n",
       "    <tr>\n",
       "      <th>Product</th>\n",
       "      <th></th>\n",
       "    </tr>\n",
       "  </thead>\n",
       "  <tbody>\n",
       "    <tr>\n",
       "      <th>Product C</th>\n",
       "      <td>15486.736737</td>\n",
       "    </tr>\n",
       "    <tr>\n",
       "      <th>Product B</th>\n",
       "      <td>16600.000000</td>\n",
       "    </tr>\n",
       "    <tr>\n",
       "      <th>Product D</th>\n",
       "      <td>20152.666667</td>\n",
       "    </tr>\n",
       "    <tr>\n",
       "      <th>Product A</th>\n",
       "      <td>20994.826488</td>\n",
       "    </tr>\n",
       "    <tr>\n",
       "      <th>Product E</th>\n",
       "      <td>54615.610329</td>\n",
       "    </tr>\n",
       "    <tr>\n",
       "      <th>Product F</th>\n",
       "      <td>69225.000000</td>\n",
       "    </tr>\n",
       "  </tbody>\n",
       "</table>\n",
       "</div>"
      ],
      "text/plain": [
       "             TotalPrice\n",
       "Product                \n",
       "Product C  15486.736737\n",
       "Product B  16600.000000\n",
       "Product D  20152.666667\n",
       "Product A  20994.826488\n",
       "Product E  54615.610329\n",
       "Product F  69225.000000"
      ]
     },
     "execution_count": 36,
     "metadata": {},
     "output_type": "execute_result"
    }
   ],
   "source": [
    "#Looking at the average price across products\n",
    "\n",
    "ProdPrice=pd.DataFrame(df.groupby(['Product']).TotalPrice.mean().sort_values())\n",
    "ProdPrice"
   ]
  },
  {
   "cell_type": "code",
   "execution_count": 37,
   "metadata": {},
   "outputs": [
    {
     "data": {
      "image/png": "[encoded data removed]",
      "text/plain": [
       "<Figure size 432x288 with 1 Axes>"
      ]
     },
     "metadata": {},
     "output_type": "display_data"
    }
   ],
   "source": [
    "y_pos = np.arange(len(ProdPrice))\n",
    "plt.barh(y_pos, ProdPrice.TotalPrice, align='center', alpha=0.5)\n",
    "\n",
    "plt.xlabel('Total Price')\n",
    "plt.title('Average Product Price')\n",
    "plt.yticks(y_pos, ProdPrice.index)\n",
    "\n",
    "plt.show()"
   ]
  },
  {
   "cell_type": "code",
   "execution_count": 38,
   "metadata": {
    "scrolled": false
   },
   "outputs": [
    {
     "data": {
      "text/html": [
       "<div>\n",
       "<style scoped>\n",
       "    .dataframe tbody tr th:only-of-type {\n",
       "        vertical-align: middle;\n",
       "    }\n",
       "\n",
       "    .dataframe tbody tr th {\n",
       "        vertical-align: top;\n",
       "    }\n",
       "\n",
       "    .dataframe thead th {\n",
       "        text-align: right;\n",
       "    }\n",
       "</style>\n",
       "<table border=\"1\" class=\"dataframe\">\n",
       "  <thead>\n",
       "    <tr style=\"text-align: right;\">\n",
       "      <th></th>\n",
       "      <th>PercPaid360</th>\n",
       "    </tr>\n",
       "    <tr>\n",
       "      <th>Product</th>\n",
       "      <th></th>\n",
       "    </tr>\n",
       "  </thead>\n",
       "  <tbody>\n",
       "    <tr>\n",
       "      <th>Product C</th>\n",
       "      <td>0.836235</td>\n",
       "    </tr>\n",
       "    <tr>\n",
       "      <th>Product D</th>\n",
       "      <td>0.800864</td>\n",
       "    </tr>\n",
       "    <tr>\n",
       "      <th>Product B</th>\n",
       "      <td>0.787016</td>\n",
       "    </tr>\n",
       "    <tr>\n",
       "      <th>Product E</th>\n",
       "      <td>0.776317</td>\n",
       "    </tr>\n",
       "    <tr>\n",
       "      <th>Product F</th>\n",
       "      <td>0.731455</td>\n",
       "    </tr>\n",
       "    <tr>\n",
       "      <th>Product A</th>\n",
       "      <td>0.698310</td>\n",
       "    </tr>\n",
       "  </tbody>\n",
       "</table>\n",
       "</div>"
      ],
      "text/plain": [
       "           PercPaid360\n",
       "Product               \n",
       "Product C     0.836235\n",
       "Product D     0.800864\n",
       "Product B     0.787016\n",
       "Product E     0.776317\n",
       "Product F     0.731455\n",
       "Product A     0.698310"
      ]
     },
     "execution_count": 38,
     "metadata": {},
     "output_type": "execute_result"
    }
   ],
   "source": [
    "#Examining the average amount paid across products\n",
    "\n",
    "gp=df.groupby(['Product'])\n",
    "ProdPerc360=pd.DataFrame(gp.PercPaid360.mean().sort_values(ascending=False))\n",
    "ProdPerc360"
   ]
  },
  {
   "cell_type": "code",
   "execution_count": 39,
   "metadata": {},
   "outputs": [
    {
     "data": {
      "image/png": "[encoded data removed]",
      "text/plain": [
       "<Figure size 432x288 with 1 Axes>"
      ]
     },
     "metadata": {},
     "output_type": "display_data"
    }
   ],
   "source": [
    "y_pos = np.arange(len(ProdPerc360))\n",
    "plt.barh(y_pos, ProdPerc360.PercPaid360, align='center', alpha=0.5)\n",
    "\n",
    "plt.xlabel('Percentage Paid')\n",
    "plt.title('Average Percentage Paid 360')\n",
    "plt.yticks(y_pos, ProdPerc360.index)\n",
    "\n",
    "plt.show()"
   ]
  },
  {
   "cell_type": "code",
   "execution_count": 40,
   "metadata": {},
   "outputs": [],
   "source": [
    "A=gp.get_group('Product A').PercPaid360\n",
    "B=gp.get_group('Product B').PercPaid360\n",
    "C=gp.get_group('Product C').PercPaid360\n",
    "D=gp.get_group('Product D').PercPaid360\n",
    "E=gp.get_group('Product E').PercPaid360\n",
    "F=gp.get_group('Product F').PercPaid360"
   ]
  },
  {
   "cell_type": "code",
   "execution_count": 41,
   "metadata": {},
   "outputs": [
    {
     "data": {
      "text/plain": [
       "F_onewayResult(statistic=77.28721629548306, pvalue=1.2165049272447644e-79)"
      ]
     },
     "execution_count": 41,
     "metadata": {},
     "output_type": "execute_result"
    }
   ],
   "source": [
    "f_oneway(A,B,C,D,E,F)"
   ]
  },
  {
   "cell_type": "markdown",
   "metadata": {},
   "source": [
    "#### b.) Gender"
   ]
  },
  {
   "cell_type": "markdown",
   "metadata": {},
   "source": [
    "During the review period, more men purchased items as opposed to women. On average, men also purchased items worth more than women on and paid 1% more than women towards their loans. Product B was purchased most across '\n",
    "\n",
    "Since the variable only had 2 categories and was a sample of data, a student's t-test was carried out on the data. The null and alternative hypothesis of a t-test are as follows:\n",
    "\n",
    "H0: there is no significant statistical difference of the means of the samples.\n",
    "H1: there is a significant statistical difference of the means of the samples.\n",
    "\n",
    "The resulting p-value of 0.76, therefore means that we fail to reject the null hypothesis that there is no statisticall difference in the loan percentage paid on the 360th day between men and women."
   ]
  },
  {
   "cell_type": "code",
   "execution_count": 42,
   "metadata": {
    "scrolled": true
   },
   "outputs": [
    {
     "data": {
      "text/plain": [
       "Male      5366\n",
       "Female    3829\n",
       "Name: CustomerGender, dtype: int64"
      ]
     },
     "execution_count": 42,
     "metadata": {},
     "output_type": "execute_result"
    }
   ],
   "source": [
    "df.CustomerGender.value_counts()"
   ]
  },
  {
   "cell_type": "code",
   "execution_count": 43,
   "metadata": {},
   "outputs": [],
   "source": [
    "c=df.groupby(['CustomerGender'])"
   ]
  },
  {
   "cell_type": "code",
   "execution_count": 44,
   "metadata": {
    "scrolled": false
   },
   "outputs": [
    {
     "data": {
      "text/html": [
       "<div>\n",
       "<style scoped>\n",
       "    .dataframe tbody tr th:only-of-type {\n",
       "        vertical-align: middle;\n",
       "    }\n",
       "\n",
       "    .dataframe tbody tr th {\n",
       "        vertical-align: top;\n",
       "    }\n",
       "\n",
       "    .dataframe thead th {\n",
       "        text-align: right;\n",
       "    }\n",
       "</style>\n",
       "<table border=\"1\" class=\"dataframe\">\n",
       "  <thead>\n",
       "    <tr style=\"text-align: right;\">\n",
       "      <th></th>\n",
       "      <th>TotalPrice</th>\n",
       "    </tr>\n",
       "    <tr>\n",
       "      <th>CustomerGender</th>\n",
       "      <th></th>\n",
       "    </tr>\n",
       "  </thead>\n",
       "  <tbody>\n",
       "    <tr>\n",
       "      <th>Male</th>\n",
       "      <td>19639.349609</td>\n",
       "    </tr>\n",
       "    <tr>\n",
       "      <th>Female</th>\n",
       "      <td>18743.418647</td>\n",
       "    </tr>\n",
       "  </tbody>\n",
       "</table>\n",
       "</div>"
      ],
      "text/plain": [
       "                  TotalPrice\n",
       "CustomerGender              \n",
       "Male            19639.349609\n",
       "Female          18743.418647"
      ]
     },
     "execution_count": 44,
     "metadata": {},
     "output_type": "execute_result"
    }
   ],
   "source": [
    "CustPrice=pd.DataFrame(c.TotalPrice.mean().sort_values(ascending=False))\n",
    "CustPrice"
   ]
  },
  {
   "cell_type": "code",
   "execution_count": 45,
   "metadata": {},
   "outputs": [
    {
     "data": {
      "image/png": "[encoded data removed]",
      "text/plain": [
       "<Figure size 432x288 with 1 Axes>"
      ]
     },
     "metadata": {},
     "output_type": "display_data"
    }
   ],
   "source": [
    "y_pos = np.arange(len(CustPrice))\n",
    "plt.barh(y_pos, CustPrice.TotalPrice, align='center', alpha=0.5)\n",
    "\n",
    "plt.xlabel('Total Price')\n",
    "plt.title('Average Product Price')\n",
    "plt.yticks(y_pos, CustPrice.index)\n",
    "\n",
    "plt.show()"
   ]
  },
  {
   "cell_type": "code",
   "execution_count": 46,
   "metadata": {},
   "outputs": [
    {
     "data": {
      "text/html": [
       "<div>\n",
       "<style scoped>\n",
       "    .dataframe tbody tr th:only-of-type {\n",
       "        vertical-align: middle;\n",
       "    }\n",
       "\n",
       "    .dataframe tbody tr th {\n",
       "        vertical-align: top;\n",
       "    }\n",
       "\n",
       "    .dataframe thead th {\n",
       "        text-align: right;\n",
       "    }\n",
       "</style>\n",
       "<table border=\"1\" class=\"dataframe\">\n",
       "  <thead>\n",
       "    <tr style=\"text-align: right;\">\n",
       "      <th></th>\n",
       "      <th>PercPaid360</th>\n",
       "    </tr>\n",
       "    <tr>\n",
       "      <th>CustomerGender</th>\n",
       "      <th></th>\n",
       "    </tr>\n",
       "  </thead>\n",
       "  <tbody>\n",
       "    <tr>\n",
       "      <th>Female</th>\n",
       "      <td>0.764157</td>\n",
       "    </tr>\n",
       "    <tr>\n",
       "      <th>Male</th>\n",
       "      <td>0.762605</td>\n",
       "    </tr>\n",
       "  </tbody>\n",
       "</table>\n",
       "</div>"
      ],
      "text/plain": [
       "                PercPaid360\n",
       "CustomerGender             \n",
       "Female             0.764157\n",
       "Male               0.762605"
      ]
     },
     "execution_count": 46,
     "metadata": {},
     "output_type": "execute_result"
    }
   ],
   "source": [
    "CustPerc=pd.DataFrame(c.PercPaid360.mean())\n",
    "CustPerc"
   ]
  },
  {
   "cell_type": "code",
   "execution_count": 47,
   "metadata": {},
   "outputs": [
    {
     "data": {
      "image/png": "[encoded data removed]",
      "text/plain": [
       "<Figure size 432x288 with 1 Axes>"
      ]
     },
     "metadata": {},
     "output_type": "display_data"
    }
   ],
   "source": [
    "y_pos = np.arange(len(CustPerc))\n",
    "plt.barh(y_pos, CustPerc.PercPaid360, align='center', alpha=0.5)\n",
    "\n",
    "plt.xlabel('Percentage Paid')\n",
    "plt.title('Average Percentage Paid 360')\n",
    "plt.yticks(y_pos, CustPerc.index)\n",
    "\n",
    "plt.show()"
   ]
  },
  {
   "cell_type": "code",
   "execution_count": 48,
   "metadata": {
    "scrolled": true
   },
   "outputs": [
    {
     "data": {
      "text/html": [
       "<div>\n",
       "<style scoped>\n",
       "    .dataframe tbody tr th:only-of-type {\n",
       "        vertical-align: middle;\n",
       "    }\n",
       "\n",
       "    .dataframe tbody tr th {\n",
       "        vertical-align: top;\n",
       "    }\n",
       "\n",
       "    .dataframe thead th {\n",
       "        text-align: right;\n",
       "    }\n",
       "</style>\n",
       "<table border=\"1\" class=\"dataframe\">\n",
       "  <thead>\n",
       "    <tr style=\"text-align: right;\">\n",
       "      <th></th>\n",
       "      <th>Product</th>\n",
       "    </tr>\n",
       "    <tr>\n",
       "      <th>CustomerGender</th>\n",
       "      <th></th>\n",
       "    </tr>\n",
       "  </thead>\n",
       "  <tbody>\n",
       "    <tr>\n",
       "      <th>Female</th>\n",
       "      <td>Product B</td>\n",
       "    </tr>\n",
       "    <tr>\n",
       "      <th>Male</th>\n",
       "      <td>Product B</td>\n",
       "    </tr>\n",
       "  </tbody>\n",
       "</table>\n",
       "</div>"
      ],
      "text/plain": [
       "                  Product\n",
       "CustomerGender           \n",
       "Female          Product B\n",
       "Male            Product B"
      ]
     },
     "execution_count": 48,
     "metadata": {},
     "output_type": "execute_result"
    }
   ],
   "source": [
    "df.iloc[:,:2].groupby(['CustomerGender']).agg(pd.Series.mode)"
   ]
  },
  {
   "cell_type": "code",
   "execution_count": 49,
   "metadata": {},
   "outputs": [
    {
     "data": {
      "text/plain": [
       "(-0.30012450646241884, 0.7640889729142258, 9193.0)"
      ]
     },
     "execution_count": 49,
     "metadata": {},
     "output_type": "execute_result"
    }
   ],
   "source": [
    "M=c.get_group('Male').PercPaid360\n",
    "F=c.get_group('Female').PercPaid360\n",
    "\n",
    "ttest_ind(M,F)\n"
   ]
  },
  {
   "cell_type": "markdown",
   "metadata": {},
   "source": [
    "#### c.) Areas of operation"
   ]
  },
  {
   "cell_type": "markdown",
   "metadata": {},
   "source": [
    "Region 14 has the highest average purchases but ne of the lowest percentage paid as at the 360th day. There seems to be some degree of variation across regions with regards to the percentage paid meaning that the regions could be an interesting explanatory variable to the percentage paid.\n",
    "\n",
    "The small p-value means that we reject the null hypothesis that there is no statistically significant difference in loan repayment across different regions. Therefore the Region of a customer is a factor determining their repayment."
   ]
  },
  {
   "cell_type": "code",
   "execution_count": 50,
   "metadata": {},
   "outputs": [],
   "source": [
    "r=df.groupby(['Region'])"
   ]
  },
  {
   "cell_type": "code",
   "execution_count": 51,
   "metadata": {},
   "outputs": [
    {
     "data": {
      "text/plain": [
       "array(['Region 2', 'Region 3', 'Region 5', 'Region 1', 'Region 6',\n",
       "       'Region 4', 'Region 7', 'Region 10', 'Region 11', 'Region 9',\n",
       "       'Region 12', 'Region 8', 'Region 13', 'Region 14', 'Region 15',\n",
       "       'Region 16', 'Region 17', 'Region 18'], dtype=object)"
      ]
     },
     "execution_count": 51,
     "metadata": {},
     "output_type": "execute_result"
    }
   ],
   "source": [
    "df.Region.unique()"
   ]
  },
  {
   "cell_type": "code",
   "execution_count": 52,
   "metadata": {
    "scrolled": false
   },
   "outputs": [
    {
     "data": {
      "text/html": [
       "<div>\n",
       "<style scoped>\n",
       "    .dataframe tbody tr th:only-of-type {\n",
       "        vertical-align: middle;\n",
       "    }\n",
       "\n",
       "    .dataframe tbody tr th {\n",
       "        vertical-align: top;\n",
       "    }\n",
       "\n",
       "    .dataframe thead th {\n",
       "        text-align: right;\n",
       "    }\n",
       "</style>\n",
       "<table border=\"1\" class=\"dataframe\">\n",
       "  <thead>\n",
       "    <tr style=\"text-align: right;\">\n",
       "      <th></th>\n",
       "      <th>TotalPrice</th>\n",
       "    </tr>\n",
       "    <tr>\n",
       "      <th>Region</th>\n",
       "      <th></th>\n",
       "    </tr>\n",
       "  </thead>\n",
       "  <tbody>\n",
       "    <tr>\n",
       "      <th>Region 13</th>\n",
       "      <td>13775.000000</td>\n",
       "    </tr>\n",
       "    <tr>\n",
       "      <th>Region 8</th>\n",
       "      <td>16279.545455</td>\n",
       "    </tr>\n",
       "    <tr>\n",
       "      <th>Region 9</th>\n",
       "      <td>16828.787879</td>\n",
       "    </tr>\n",
       "    <tr>\n",
       "      <th>Region 5</th>\n",
       "      <td>17128.787879</td>\n",
       "    </tr>\n",
       "    <tr>\n",
       "      <th>Region 11</th>\n",
       "      <td>17233.333333</td>\n",
       "    </tr>\n",
       "    <tr>\n",
       "      <th>Region 17</th>\n",
       "      <td>17310.714286</td>\n",
       "    </tr>\n",
       "    <tr>\n",
       "      <th>Region 18</th>\n",
       "      <td>17387.500000</td>\n",
       "    </tr>\n",
       "    <tr>\n",
       "      <th>Region 12</th>\n",
       "      <td>17450.000000</td>\n",
       "    </tr>\n",
       "    <tr>\n",
       "      <th>Region 10</th>\n",
       "      <td>17489.473684</td>\n",
       "    </tr>\n",
       "    <tr>\n",
       "      <th>Region 16</th>\n",
       "      <td>18318.181818</td>\n",
       "    </tr>\n",
       "    <tr>\n",
       "      <th>Region 15</th>\n",
       "      <td>18379.545455</td>\n",
       "    </tr>\n",
       "    <tr>\n",
       "      <th>Region 1</th>\n",
       "      <td>19022.646104</td>\n",
       "    </tr>\n",
       "    <tr>\n",
       "      <th>Region 4</th>\n",
       "      <td>19072.916667</td>\n",
       "    </tr>\n",
       "    <tr>\n",
       "      <th>Region 2</th>\n",
       "      <td>19281.250000</td>\n",
       "    </tr>\n",
       "    <tr>\n",
       "      <th>Region 6</th>\n",
       "      <td>19322.213701</td>\n",
       "    </tr>\n",
       "    <tr>\n",
       "      <th>Region 7</th>\n",
       "      <td>19611.856913</td>\n",
       "    </tr>\n",
       "    <tr>\n",
       "      <th>Region 3</th>\n",
       "      <td>19797.668727</td>\n",
       "    </tr>\n",
       "    <tr>\n",
       "      <th>Region 14</th>\n",
       "      <td>27605.000000</td>\n",
       "    </tr>\n",
       "  </tbody>\n",
       "</table>\n",
       "</div>"
      ],
      "text/plain": [
       "             TotalPrice\n",
       "Region                 \n",
       "Region 13  13775.000000\n",
       "Region 8   16279.545455\n",
       "Region 9   16828.787879\n",
       "Region 5   17128.787879\n",
       "Region 11  17233.333333\n",
       "Region 17  17310.714286\n",
       "Region 18  17387.500000\n",
       "Region 12  17450.000000\n",
       "Region 10  17489.473684\n",
       "Region 16  18318.181818\n",
       "Region 15  18379.545455\n",
       "Region 1   19022.646104\n",
       "Region 4   19072.916667\n",
       "Region 2   19281.250000\n",
       "Region 6   19322.213701\n",
       "Region 7   19611.856913\n",
       "Region 3   19797.668727\n",
       "Region 14  27605.000000"
      ]
     },
     "execution_count": 52,
     "metadata": {},
     "output_type": "execute_result"
    }
   ],
   "source": [
    "#Average sales by region\n",
    "\n",
    "RegPrice=pd.DataFrame(r.TotalPrice.mean().sort_values())\n",
    "RegPrice"
   ]
  },
  {
   "cell_type": "code",
   "execution_count": 53,
   "metadata": {},
   "outputs": [
    {
     "data": {
      "image/png": "[encoded data removed]",
      "text/plain": [
       "<Figure size 432x288 with 1 Axes>"
      ]
     },
     "metadata": {},
     "output_type": "display_data"
    }
   ],
   "source": [
    "y_pos = np.arange(len(RegPrice))\n",
    "plt.barh(y_pos, RegPrice.TotalPrice, align='center', alpha=0.5)\n",
    "\n",
    "plt.xlabel('Total Price')\n",
    "plt.title('Average Product Price')\n",
    "plt.yticks(y_pos, RegPrice.index)\n",
    "\n",
    "plt.show()"
   ]
  },
  {
   "cell_type": "code",
   "execution_count": 54,
   "metadata": {
    "scrolled": false
   },
   "outputs": [
    {
     "data": {
      "text/html": [
       "<div>\n",
       "<style scoped>\n",
       "    .dataframe tbody tr th:only-of-type {\n",
       "        vertical-align: middle;\n",
       "    }\n",
       "\n",
       "    .dataframe tbody tr th {\n",
       "        vertical-align: top;\n",
       "    }\n",
       "\n",
       "    .dataframe thead th {\n",
       "        text-align: right;\n",
       "    }\n",
       "</style>\n",
       "<table border=\"1\" class=\"dataframe\">\n",
       "  <thead>\n",
       "    <tr style=\"text-align: right;\">\n",
       "      <th></th>\n",
       "      <th>PercPaid360</th>\n",
       "    </tr>\n",
       "    <tr>\n",
       "      <th>Region</th>\n",
       "      <th></th>\n",
       "    </tr>\n",
       "  </thead>\n",
       "  <tbody>\n",
       "    <tr>\n",
       "      <th>Region 13</th>\n",
       "      <td>0.562896</td>\n",
       "    </tr>\n",
       "    <tr>\n",
       "      <th>Region 14</th>\n",
       "      <td>0.645496</td>\n",
       "    </tr>\n",
       "    <tr>\n",
       "      <th>Region 7</th>\n",
       "      <td>0.735650</td>\n",
       "    </tr>\n",
       "    <tr>\n",
       "      <th>Region 2</th>\n",
       "      <td>0.740720</td>\n",
       "    </tr>\n",
       "    <tr>\n",
       "      <th>Region 1</th>\n",
       "      <td>0.740958</td>\n",
       "    </tr>\n",
       "    <tr>\n",
       "      <th>Region 17</th>\n",
       "      <td>0.748390</td>\n",
       "    </tr>\n",
       "    <tr>\n",
       "      <th>Region 3</th>\n",
       "      <td>0.757196</td>\n",
       "    </tr>\n",
       "    <tr>\n",
       "      <th>Region 16</th>\n",
       "      <td>0.771671</td>\n",
       "    </tr>\n",
       "    <tr>\n",
       "      <th>Region 10</th>\n",
       "      <td>0.774790</td>\n",
       "    </tr>\n",
       "    <tr>\n",
       "      <th>Region 6</th>\n",
       "      <td>0.779521</td>\n",
       "    </tr>\n",
       "    <tr>\n",
       "      <th>Region 8</th>\n",
       "      <td>0.793994</td>\n",
       "    </tr>\n",
       "    <tr>\n",
       "      <th>Region 4</th>\n",
       "      <td>0.801956</td>\n",
       "    </tr>\n",
       "    <tr>\n",
       "      <th>Region 12</th>\n",
       "      <td>0.822892</td>\n",
       "    </tr>\n",
       "    <tr>\n",
       "      <th>Region 15</th>\n",
       "      <td>0.849617</td>\n",
       "    </tr>\n",
       "    <tr>\n",
       "      <th>Region 18</th>\n",
       "      <td>0.852065</td>\n",
       "    </tr>\n",
       "    <tr>\n",
       "      <th>Region 5</th>\n",
       "      <td>0.859466</td>\n",
       "    </tr>\n",
       "    <tr>\n",
       "      <th>Region 9</th>\n",
       "      <td>0.864455</td>\n",
       "    </tr>\n",
       "    <tr>\n",
       "      <th>Region 11</th>\n",
       "      <td>0.953464</td>\n",
       "    </tr>\n",
       "  </tbody>\n",
       "</table>\n",
       "</div>"
      ],
      "text/plain": [
       "           PercPaid360\n",
       "Region                \n",
       "Region 13     0.562896\n",
       "Region 14     0.645496\n",
       "Region 7      0.735650\n",
       "Region 2      0.740720\n",
       "Region 1      0.740958\n",
       "Region 17     0.748390\n",
       "Region 3      0.757196\n",
       "Region 16     0.771671\n",
       "Region 10     0.774790\n",
       "Region 6      0.779521\n",
       "Region 8      0.793994\n",
       "Region 4      0.801956\n",
       "Region 12     0.822892\n",
       "Region 15     0.849617\n",
       "Region 18     0.852065\n",
       "Region 5      0.859466\n",
       "Region 9      0.864455\n",
       "Region 11     0.953464"
      ]
     },
     "execution_count": 54,
     "metadata": {},
     "output_type": "execute_result"
    }
   ],
   "source": [
    "#Average percentage paid by region\n",
    "\n",
    "RegPerc=pd.DataFrame(r.PercPaid360.mean().sort_values())\n",
    "RegPerc"
   ]
  },
  {
   "cell_type": "code",
   "execution_count": 55,
   "metadata": {},
   "outputs": [
    {
     "data": {
      "image/png": "[encoded data removed]",
      "text/plain": [
       "<Figure size 432x288 with 1 Axes>"
      ]
     },
     "metadata": {},
     "output_type": "display_data"
    }
   ],
   "source": [
    "y_pos = np.arange(len(RegPerc))\n",
    "plt.barh(y_pos, RegPerc.PercPaid360, align='center', alpha=0.5)\n",
    "\n",
    "plt.xlabel('Percentage Paid')\n",
    "plt.title('Average Percentage Paid 360')\n",
    "plt.yticks(y_pos, RegPerc.index)\n",
    "\n",
    "plt.show()"
   ]
  },
  {
   "cell_type": "code",
   "execution_count": 56,
   "metadata": {},
   "outputs": [],
   "source": [
    "R1=r.get_group('Region 1').PercPaid360\n",
    "R2=r.get_group('Region 2').PercPaid360\n",
    "R3=r.get_group('Region 3').PercPaid360\n",
    "R4=r.get_group('Region 4').PercPaid360\n",
    "R5=r.get_group('Region 5').PercPaid360\n",
    "R6=r.get_group('Region 6').PercPaid360\n",
    "R7=r.get_group('Region 7').PercPaid360\n",
    "R8=r.get_group('Region 8').PercPaid360\n",
    "R9=r.get_group('Region 9').PercPaid360\n",
    "R10=r.get_group('Region 10').PercPaid360\n",
    "R11=r.get_group('Region 11').PercPaid360\n",
    "R12=r.get_group('Region 12').PercPaid360\n",
    "R13=r.get_group('Region 13').PercPaid360\n",
    "R14=r.get_group('Region 14').PercPaid360\n",
    "R15=r.get_group('Region 15').PercPaid360"
   ]
  },
  {
   "cell_type": "code",
   "execution_count": 57,
   "metadata": {},
   "outputs": [
    {
     "data": {
      "text/plain": [
       "F_onewayResult(statistic=76.82693214487614, pvalue=1.2016449826170764e-79)"
      ]
     },
     "execution_count": 57,
     "metadata": {},
     "output_type": "execute_result"
    }
   ],
   "source": [
    "#ANOVA analysis\n",
    "\n",
    "f_oneway(A,B,C,D,E,F)"
   ]
  },
  {
   "cell_type": "markdown",
   "metadata": {},
   "source": [
    "#### d.) Loan Status"
   ]
  },
  {
   "cell_type": "code",
   "execution_count": 58,
   "metadata": {
    "scrolled": false
   },
   "outputs": [
    {
     "data": {
      "text/plain": [
       "Active              6742\n",
       "Finished Payment    1604\n",
       "Blocked              849\n",
       "Name: LoanStatus360, dtype: int64"
      ]
     },
     "execution_count": 58,
     "metadata": {},
     "output_type": "execute_result"
    }
   ],
   "source": [
    "df.LoanStatus360.value_counts()"
   ]
  },
  {
   "cell_type": "code",
   "execution_count": 59,
   "metadata": {},
   "outputs": [
    {
     "data": {
      "text/plain": [
       "Text(0.5, 1.0, 'Custmer Loan Status')"
      ]
     },
     "execution_count": 59,
     "metadata": {},
     "output_type": "execute_result"
    },
    {
     "data": {
      "image/png": "[encoded data removed]",
      "text/plain": [
       "<Figure size 432x288 with 1 Axes>"
      ]
     },
     "metadata": {},
     "output_type": "display_data"
    }
   ],
   "source": [
    "ax = sns.countplot(x=\"LoanStatus360\", data=df)\n",
    "ax.set_title('Custmer Loan Status')"
   ]
  },
  {
   "cell_type": "code",
   "execution_count": 60,
   "metadata": {
    "scrolled": true
   },
   "outputs": [
    {
     "data": {
      "image/png": "[encoded data removed]",
      "text/plain": [
       "<Figure size 432x288 with 1 Axes>"
      ]
     },
     "metadata": {},
     "output_type": "display_data"
    }
   ],
   "source": [
    "ax = sns.countplot(x=\"CustomerGender\",hue=\"LoanStatus360\", data=df)"
   ]
  },
  {
   "cell_type": "code",
   "execution_count": 61,
   "metadata": {
    "scrolled": true
   },
   "outputs": [
    {
     "data": {
      "text/plain": [
       "LoanStatus360\n",
       "Finished Payment    1.292658\n",
       "Active              0.868872\n",
       "Blocked             0.792282\n",
       "Name: PercPaid30, dtype: float64"
      ]
     },
     "execution_count": 61,
     "metadata": {},
     "output_type": "execute_result"
    }
   ],
   "source": [
    "df.groupby(['LoanStatus360']).PercPaid30.mean().sort_values(ascending=False)"
   ]
  },
  {
   "cell_type": "code",
   "execution_count": 62,
   "metadata": {},
   "outputs": [
    {
     "data": {
      "text/plain": [
       "LoanStatus360\n",
       "Finished Payment    1.215063\n",
       "Active              0.869252\n",
       "Blocked             0.732946\n",
       "Name: PercPaid60, dtype: float64"
      ]
     },
     "execution_count": 62,
     "metadata": {},
     "output_type": "execute_result"
    }
   ],
   "source": [
    "df.groupby(['LoanStatus360']).PercPaid60.mean().sort_values(ascending=False)"
   ]
  },
  {
   "cell_type": "code",
   "execution_count": 63,
   "metadata": {},
   "outputs": [
    {
     "data": {
      "text/html": [
       "<div>\n",
       "<style scoped>\n",
       "    .dataframe tbody tr th:only-of-type {\n",
       "        vertical-align: middle;\n",
       "    }\n",
       "\n",
       "    .dataframe tbody tr th {\n",
       "        vertical-align: top;\n",
       "    }\n",
       "\n",
       "    .dataframe thead th {\n",
       "        text-align: right;\n",
       "    }\n",
       "</style>\n",
       "<table border=\"1\" class=\"dataframe\">\n",
       "  <thead>\n",
       "    <tr style=\"text-align: right;\">\n",
       "      <th></th>\n",
       "      <th>PercPaid360</th>\n",
       "    </tr>\n",
       "    <tr>\n",
       "      <th>LoanStatus360</th>\n",
       "      <th></th>\n",
       "    </tr>\n",
       "  </thead>\n",
       "  <tbody>\n",
       "    <tr>\n",
       "      <th>Finished Payment</th>\n",
       "      <td>1.000000</td>\n",
       "    </tr>\n",
       "    <tr>\n",
       "      <th>Active</th>\n",
       "      <td>0.761503</td>\n",
       "    </tr>\n",
       "    <tr>\n",
       "      <th>Blocked</th>\n",
       "      <td>0.329857</td>\n",
       "    </tr>\n",
       "  </tbody>\n",
       "</table>\n",
       "</div>"
      ],
      "text/plain": [
       "                  PercPaid360\n",
       "LoanStatus360                \n",
       "Finished Payment     1.000000\n",
       "Active               0.761503\n",
       "Blocked              0.329857"
      ]
     },
     "execution_count": 63,
     "metadata": {},
     "output_type": "execute_result"
    }
   ],
   "source": [
    "LoanPerc=pd.DataFrame(df.groupby(['LoanStatus360']).PercPaid360.mean().sort_values(ascending=False))\n",
    "LoanPerc"
   ]
  },
  {
   "cell_type": "code",
   "execution_count": 64,
   "metadata": {},
   "outputs": [
    {
     "data": {
      "image/png": "[encoded data removed]",
      "text/plain": [
       "<Figure size 432x288 with 1 Axes>"
      ]
     },
     "metadata": {},
     "output_type": "display_data"
    }
   ],
   "source": [
    "y_pos = np.arange(len(LoanPerc))\n",
    "plt.barh(y_pos, LoanPerc.PercPaid360, align='center', alpha=0.5)\n",
    "\n",
    "plt.xlabel('Percentage Paid')\n",
    "plt.title('Average Percentage Paid 360')\n",
    "plt.yticks(y_pos, LoanPerc.index)\n",
    "\n",
    "plt.show()"
   ]
  },
  {
   "cell_type": "markdown",
   "metadata": {},
   "source": [
    "### ii.) Continuous Data"
   ]
  },
  {
   "cell_type": "markdown",
   "metadata": {},
   "source": [
    "### a.) Summary Statistics"
   ]
  },
  {
   "cell_type": "code",
   "execution_count": null,
   "metadata": {},
   "outputs": [],
   "source": []
  },
  {
   "cell_type": "markdown",
   "metadata": {},
   "source": [
    "The summary statistics of the continous variables are elaborated below:\n",
    "\n",
    "    a.) Total Price\n",
    "The average total price of products is Kshs.19,266 although this value varies on average by Kshs.6,053. The most affordable product costs Kshs.13,775 whereas the most expensive product costs 69,225. However, most of the products cost less than Kshs.20,250. There is a slight difference between the mean and the median suggesting that the prices are positively skewed.\n",
    "\n",
    "    b.) Deposit\n",
    "The average value for deposits is approximately Kshs.2,312 although on average this varies by Kshs.1,412. The least amount a customer has left as a deposit is 1000 whereas the highest deposit is Kshs.9000. Most of the deposits are of Kshs.2000. The mean is very similar to the median indicating that the deposits are only slightly positively skewed.\n",
    "\n",
    "    c.) Daily Rate\n",
    "The average daily rate paid is Kshs.46 although on average this amount varies by Kshs.13. The least daily rate paid by a customer is Kshs.35 whereas the highest is Kshs.165. Most customers are required to pay a daily rate of less than Kshs.50. The mean is slightly higher than the median indicating that the Daily rates are also positively skewed.\n",
    "\n",
    "    d.) Percentage Paid 30 and 60\n",
    "The amount paid by customers as of 30th day is on average 93.6% of the required amount signifying that the customers on average follow the payment plan closely though not perfectly. However, this commitment to the payment plan reduces slightly by the 60th day to 91.7%. The variation in adherence also reduces across customers from 53.4% to 38.5%. The minimum percentage paid by customers as of the 30th day is -128% of the required amount. The minimum percentage paid then increases to -80%. From the data set it is not very clear what a negative amount paid means but clarification around the matter would aid in appropriate feature engineering. However, for the purposes of this exercise, it is assumed that a negative amount paid is indicative of accrued interest being greater than the amount paid by a customer. Most of the customers pay less than 106.9% of the required amount by the 30th day. This amount futher reduces to 104.5% bythe 60th day. Close to 50% of customers pay more than the required amount as at the 30th day this number reduces slightly as at the 60th day.\n",
    "\n",
    "    f.) Percentage Paid 360\n",
    "On average, customers complete 76.4% of the payment by the 360th day. The percentage paid varies by 24.4% among the obsereved customers. The least percentage paid is -16.6% and the highest amount paid is 100%. Most customers have paid of less than 97.2% of their loans. The data is positively skewed since the median(84.7%) is greater than the mean.\n",
    "\n",
    "The total price, deposit and daily rate variables contain relatively large variances thus may need to be scaled.\n",
    "\n",
    "##### Correlation Analysis\n",
    "A correlation analysis revealed that the percentage paid as at day 30 and that paid as at day 60 were very highly correlated thus in a bid to avoid multi-colinerity, I dropped the variable describing the percentage paid as at day 30.\n",
    "The total price and Deposit Rate were dropped rather since the were highlly correlated nd introduced multicolinearity to the model."
   ]
  },
  {
   "cell_type": "code",
   "execution_count": 65,
   "metadata": {
    "scrolled": true
   },
   "outputs": [
    {
     "data": {
      "text/html": [
       "<div>\n",
       "<style scoped>\n",
       "    .dataframe tbody tr th:only-of-type {\n",
       "        vertical-align: middle;\n",
       "    }\n",
       "\n",
       "    .dataframe tbody tr th {\n",
       "        vertical-align: top;\n",
       "    }\n",
       "\n",
       "    .dataframe thead th {\n",
       "        text-align: right;\n",
       "    }\n",
       "</style>\n",
       "<table border=\"1\" class=\"dataframe\">\n",
       "  <thead>\n",
       "    <tr style=\"text-align: right;\">\n",
       "      <th></th>\n",
       "      <th>TotalPrice</th>\n",
       "      <th>Deposit</th>\n",
       "      <th>DailyRate</th>\n",
       "      <th>PercPaid30</th>\n",
       "      <th>PercPaid60</th>\n",
       "      <th>PercPaid360</th>\n",
       "    </tr>\n",
       "  </thead>\n",
       "  <tbody>\n",
       "    <tr>\n",
       "      <th>count</th>\n",
       "      <td>9195.000000</td>\n",
       "      <td>9195.000000</td>\n",
       "      <td>9195.000000</td>\n",
       "      <td>9195.000000</td>\n",
       "      <td>9195.000000</td>\n",
       "      <td>9195.000000</td>\n",
       "    </tr>\n",
       "    <tr>\n",
       "      <th>mean</th>\n",
       "      <td>19266.264274</td>\n",
       "      <td>2311.528004</td>\n",
       "      <td>46.451332</td>\n",
       "      <td>0.935727</td>\n",
       "      <td>0.916991</td>\n",
       "      <td>0.763252</td>\n",
       "    </tr>\n",
       "    <tr>\n",
       "      <th>std</th>\n",
       "      <td>6053.291677</td>\n",
       "      <td>1412.612091</td>\n",
       "      <td>13.375759</td>\n",
       "      <td>0.534184</td>\n",
       "      <td>0.385249</td>\n",
       "      <td>0.244439</td>\n",
       "    </tr>\n",
       "    <tr>\n",
       "      <th>min</th>\n",
       "      <td>13775.000000</td>\n",
       "      <td>1000.000000</td>\n",
       "      <td>35.000000</td>\n",
       "      <td>-1.280000</td>\n",
       "      <td>-0.800000</td>\n",
       "      <td>-0.166234</td>\n",
       "    </tr>\n",
       "    <tr>\n",
       "      <th>25%</th>\n",
       "      <td>16600.000000</td>\n",
       "      <td>2000.000000</td>\n",
       "      <td>40.000000</td>\n",
       "      <td>0.909091</td>\n",
       "      <td>0.832045</td>\n",
       "      <td>0.616898</td>\n",
       "    </tr>\n",
       "    <tr>\n",
       "      <th>50%</th>\n",
       "      <td>16600.000000</td>\n",
       "      <td>2000.000000</td>\n",
       "      <td>40.000000</td>\n",
       "      <td>0.990909</td>\n",
       "      <td>0.972955</td>\n",
       "      <td>0.847191</td>\n",
       "    </tr>\n",
       "    <tr>\n",
       "      <th>75%</th>\n",
       "      <td>20250.000000</td>\n",
       "      <td>2000.000000</td>\n",
       "      <td>50.000000</td>\n",
       "      <td>1.069063</td>\n",
       "      <td>1.045455</td>\n",
       "      <td>0.972354</td>\n",
       "    </tr>\n",
       "    <tr>\n",
       "      <th>max</th>\n",
       "      <td>69225.000000</td>\n",
       "      <td>9000.000000</td>\n",
       "      <td>165.000000</td>\n",
       "      <td>6.098636</td>\n",
       "      <td>3.952941</td>\n",
       "      <td>1.000000</td>\n",
       "    </tr>\n",
       "  </tbody>\n",
       "</table>\n",
       "</div>"
      ],
      "text/plain": [
       "         TotalPrice      Deposit    DailyRate   PercPaid30   PercPaid60  \\\n",
       "count   9195.000000  9195.000000  9195.000000  9195.000000  9195.000000   \n",
       "mean   19266.264274  2311.528004    46.451332     0.935727     0.916991   \n",
       "std     6053.291677  1412.612091    13.375759     0.534184     0.385249   \n",
       "min    13775.000000  1000.000000    35.000000    -1.280000    -0.800000   \n",
       "25%    16600.000000  2000.000000    40.000000     0.909091     0.832045   \n",
       "50%    16600.000000  2000.000000    40.000000     0.990909     0.972955   \n",
       "75%    20250.000000  2000.000000    50.000000     1.069063     1.045455   \n",
       "max    69225.000000  9000.000000   165.000000     6.098636     3.952941   \n",
       "\n",
       "       PercPaid360  \n",
       "count  9195.000000  \n",
       "mean      0.763252  \n",
       "std       0.244439  \n",
       "min      -0.166234  \n",
       "25%       0.616898  \n",
       "50%       0.847191  \n",
       "75%       0.972354  \n",
       "max       1.000000  "
      ]
     },
     "execution_count": 65,
     "metadata": {},
     "output_type": "execute_result"
    }
   ],
   "source": [
    "df. describe()"
   ]
  },
  {
   "cell_type": "code",
   "execution_count": 66,
   "metadata": {
    "scrolled": true
   },
   "outputs": [
    {
     "data": {
      "text/html": [
       "<div>\n",
       "<style scoped>\n",
       "    .dataframe tbody tr th:only-of-type {\n",
       "        vertical-align: middle;\n",
       "    }\n",
       "\n",
       "    .dataframe tbody tr th {\n",
       "        vertical-align: top;\n",
       "    }\n",
       "\n",
       "    .dataframe thead th {\n",
       "        text-align: right;\n",
       "    }\n",
       "</style>\n",
       "<table border=\"1\" class=\"dataframe\">\n",
       "  <thead>\n",
       "    <tr style=\"text-align: right;\">\n",
       "      <th></th>\n",
       "      <th>TotalPrice</th>\n",
       "      <th>Deposit</th>\n",
       "      <th>DailyRate</th>\n",
       "      <th>PercPaid30</th>\n",
       "      <th>PercPaid60</th>\n",
       "      <th>PercPaid360</th>\n",
       "    </tr>\n",
       "  </thead>\n",
       "  <tbody>\n",
       "    <tr>\n",
       "      <th>TotalPrice</th>\n",
       "      <td>1.000000</td>\n",
       "      <td>0.865541</td>\n",
       "      <td>0.989444</td>\n",
       "      <td>-0.043246</td>\n",
       "      <td>-0.040404</td>\n",
       "      <td>-0.021071</td>\n",
       "    </tr>\n",
       "    <tr>\n",
       "      <th>Deposit</th>\n",
       "      <td>0.865541</td>\n",
       "      <td>1.000000</td>\n",
       "      <td>0.783827</td>\n",
       "      <td>0.180569</td>\n",
       "      <td>0.166667</td>\n",
       "      <td>0.070153</td>\n",
       "    </tr>\n",
       "    <tr>\n",
       "      <th>DailyRate</th>\n",
       "      <td>0.989444</td>\n",
       "      <td>0.783827</td>\n",
       "      <td>1.000000</td>\n",
       "      <td>-0.105866</td>\n",
       "      <td>-0.098320</td>\n",
       "      <td>-0.046424</td>\n",
       "    </tr>\n",
       "    <tr>\n",
       "      <th>PercPaid30</th>\n",
       "      <td>-0.043246</td>\n",
       "      <td>0.180569</td>\n",
       "      <td>-0.105866</td>\n",
       "      <td>1.000000</td>\n",
       "      <td>0.922890</td>\n",
       "      <td>0.441998</td>\n",
       "    </tr>\n",
       "    <tr>\n",
       "      <th>PercPaid60</th>\n",
       "      <td>-0.040404</td>\n",
       "      <td>0.166667</td>\n",
       "      <td>-0.098320</td>\n",
       "      <td>0.922890</td>\n",
       "      <td>1.000000</td>\n",
       "      <td>0.543939</td>\n",
       "    </tr>\n",
       "    <tr>\n",
       "      <th>PercPaid360</th>\n",
       "      <td>-0.021071</td>\n",
       "      <td>0.070153</td>\n",
       "      <td>-0.046424</td>\n",
       "      <td>0.441998</td>\n",
       "      <td>0.543939</td>\n",
       "      <td>1.000000</td>\n",
       "    </tr>\n",
       "  </tbody>\n",
       "</table>\n",
       "</div>"
      ],
      "text/plain": [
       "             TotalPrice   Deposit  DailyRate  PercPaid30  PercPaid60  \\\n",
       "TotalPrice     1.000000  0.865541   0.989444   -0.043246   -0.040404   \n",
       "Deposit        0.865541  1.000000   0.783827    0.180569    0.166667   \n",
       "DailyRate      0.989444  0.783827   1.000000   -0.105866   -0.098320   \n",
       "PercPaid30    -0.043246  0.180569  -0.105866    1.000000    0.922890   \n",
       "PercPaid60    -0.040404  0.166667  -0.098320    0.922890    1.000000   \n",
       "PercPaid360   -0.021071  0.070153  -0.046424    0.441998    0.543939   \n",
       "\n",
       "             PercPaid360  \n",
       "TotalPrice     -0.021071  \n",
       "Deposit         0.070153  \n",
       "DailyRate      -0.046424  \n",
       "PercPaid30      0.441998  \n",
       "PercPaid60      0.543939  \n",
       "PercPaid360     1.000000  "
      ]
     },
     "execution_count": 66,
     "metadata": {},
     "output_type": "execute_result"
    }
   ],
   "source": [
    "#Correlation Analysis\n",
    "\n",
    "df.corr()"
   ]
  },
  {
   "cell_type": "code",
   "execution_count": 67,
   "metadata": {},
   "outputs": [
    {
     "data": {
      "image/png": "[encoded data removed]",
      "text/plain": [
       "<Figure size 432x288 with 2 Axes>"
      ]
     },
     "metadata": {},
     "output_type": "display_data"
    }
   ],
   "source": [
    "corr = df.corr()\n",
    "ax = sns.heatmap(\n",
    "    corr, \n",
    "    vmin=-1, vmax=1, center=0,\n",
    "    cmap=sns.diverging_palette(20, 220, n=200),\n",
    "    square=True\n",
    ")\n",
    "ax.set_xticklabels(\n",
    "    ax.get_xticklabels(),\n",
    "    rotation=45,\n",
    "    horizontalalignment='right'\n",
    ");"
   ]
  },
  {
   "cell_type": "code",
   "execution_count": 68,
   "metadata": {},
   "outputs": [],
   "source": [
    "df = df.drop(['PercPaid30','TotalPrice','Deposit'], axis=1)"
   ]
  },
  {
   "cell_type": "code",
   "execution_count": 69,
   "metadata": {},
   "outputs": [
    {
     "data": {
      "image/png": "[encoded data removed]",
      "text/plain": [
       "<Figure size 432x288 with 2 Axes>"
      ]
     },
     "metadata": {},
     "output_type": "display_data"
    }
   ],
   "source": [
    "corr = df.corr()\n",
    "ax = sns.heatmap(\n",
    "    corr, \n",
    "    vmin=-1, vmax=1, center=0,\n",
    "    cmap=sns.diverging_palette(20, 220, n=200),\n",
    "    square=True\n",
    ")\n",
    "ax.set_xticklabels(\n",
    "    ax.get_xticklabels(),\n",
    "    rotation=45,\n",
    "    horizontalalignment='right'\n",
    ");"
   ]
  },
  {
   "cell_type": "code",
   "execution_count": 70,
   "metadata": {},
   "outputs": [
    {
     "data": {
      "text/plain": [
       "Index(['Product', 'CustomerGender', 'Region', 'DailyRate', 'LoanStatus360',\n",
       "       'PercPaid60', 'PercPaid360'],\n",
       "      dtype='object')"
      ]
     },
     "execution_count": 70,
     "metadata": {},
     "output_type": "execute_result"
    }
   ],
   "source": [
    "df.columns"
   ]
  },
  {
   "cell_type": "markdown",
   "metadata": {},
   "source": [
    "##### Feature scaling"
   ]
  },
  {
   "cell_type": "markdown",
   "metadata": {},
   "source": [
    "I used the Standard scaler to scale the daily rate and percentage paid at day 60 variables"
   ]
  },
  {
   "cell_type": "code",
   "execution_count": 71,
   "metadata": {
    "scrolled": true
   },
   "outputs": [
    {
     "name": "stderr",
     "output_type": "stream",
     "text": [
      "C:\\Users\\Sharon\\Anaconda3\\lib\\site-packages\\sklearn\\preprocessing\\data.py:625: DataConversionWarning: Data with input dtype int64, float64 were all converted to float64 by StandardScaler.\n",
      "  return self.partial_fit(X, y)\n",
      "C:\\Users\\Sharon\\Anaconda3\\lib\\site-packages\\sklearn\\base.py:462: DataConversionWarning: Data with input dtype int64, float64 were all converted to float64 by StandardScaler.\n",
      "  return self.fit(X, **fit_params).transform(X)\n"
     ]
    }
   ],
   "source": [
    "standardisation = preprocessing.StandardScaler()\n",
    "df[['DailyRate', 'PercPaid60']]= standardisation.fit_transform(df[['DailyRate', 'PercPaid60']])  \n"
   ]
  },
  {
   "cell_type": "code",
   "execution_count": 72,
   "metadata": {},
   "outputs": [
    {
     "data": {
      "image/png": "[encoded data removed]",
      "text/plain": [
       "<Figure size 432x288 with 2 Axes>"
      ]
     },
     "metadata": {},
     "output_type": "display_data"
    }
   ],
   "source": [
    "corr = df.corr()\n",
    "ax = sns.heatmap(\n",
    "    corr, \n",
    "    vmin=-1, vmax=1, center=0,\n",
    "    cmap=sns.diverging_palette(20, 220, n=200),\n",
    "    square=True\n",
    ")\n",
    "ax.set_xticklabels(\n",
    "    ax.get_xticklabels(),\n",
    "    rotation=45,\n",
    "    horizontalalignment='right'\n",
    ");"
   ]
  },
  {
   "cell_type": "markdown",
   "metadata": {},
   "source": [
    "## 4. Encoding Categorical Variables"
   ]
  },
  {
   "cell_type": "markdown",
   "metadata": {},
   "source": [
    "To use the categorical variables in regression analysis, I have to first encode them to numerical values. Since the data is not ordinal, I converted them to dummy variables. Further to avoid multicolinearity and the dummy variable bias, I dropped a category for each categorical variable. For example, in the product categorical variable, I dropped Product A."
   ]
  },
  {
   "cell_type": "code",
   "execution_count": 73,
   "metadata": {
    "scrolled": false
   },
   "outputs": [
    {
     "data": {
      "text/html": [
       "<div>\n",
       "<style scoped>\n",
       "    .dataframe tbody tr th:only-of-type {\n",
       "        vertical-align: middle;\n",
       "    }\n",
       "\n",
       "    .dataframe tbody tr th {\n",
       "        vertical-align: top;\n",
       "    }\n",
       "\n",
       "    .dataframe thead th {\n",
       "        text-align: right;\n",
       "    }\n",
       "</style>\n",
       "<table border=\"1\" class=\"dataframe\">\n",
       "  <thead>\n",
       "    <tr style=\"text-align: right;\">\n",
       "      <th></th>\n",
       "      <th>Product</th>\n",
       "      <th>CustomerGender</th>\n",
       "      <th>Region</th>\n",
       "      <th>DailyRate</th>\n",
       "      <th>LoanStatus360</th>\n",
       "      <th>PercPaid60</th>\n",
       "      <th>PercPaid360</th>\n",
       "    </tr>\n",
       "  </thead>\n",
       "  <tbody>\n",
       "    <tr>\n",
       "      <th>0</th>\n",
       "      <td>Product B</td>\n",
       "      <td>Male</td>\n",
       "      <td>Region 2</td>\n",
       "      <td>-0.482341</td>\n",
       "      <td>Active</td>\n",
       "      <td>0.121676</td>\n",
       "      <td>0.820542</td>\n",
       "    </tr>\n",
       "    <tr>\n",
       "      <th>1</th>\n",
       "      <td>Product B</td>\n",
       "      <td>Male</td>\n",
       "      <td>Region 3</td>\n",
       "      <td>-0.482341</td>\n",
       "      <td>Active</td>\n",
       "      <td>0.080378</td>\n",
       "      <td>0.906084</td>\n",
       "    </tr>\n",
       "    <tr>\n",
       "      <th>2</th>\n",
       "      <td>Product C</td>\n",
       "      <td>Female</td>\n",
       "      <td>Region 5</td>\n",
       "      <td>-0.482341</td>\n",
       "      <td>Active</td>\n",
       "      <td>0.123862</td>\n",
       "      <td>0.983333</td>\n",
       "    </tr>\n",
       "    <tr>\n",
       "      <th>3</th>\n",
       "      <td>Product B</td>\n",
       "      <td>Male</td>\n",
       "      <td>Region 1</td>\n",
       "      <td>-0.482341</td>\n",
       "      <td>Active</td>\n",
       "      <td>0.121676</td>\n",
       "      <td>0.922952</td>\n",
       "    </tr>\n",
       "    <tr>\n",
       "      <th>4</th>\n",
       "      <td>Product D</td>\n",
       "      <td>Female</td>\n",
       "      <td>Region 2</td>\n",
       "      <td>0.265320</td>\n",
       "      <td>Active</td>\n",
       "      <td>0.122029</td>\n",
       "      <td>0.677531</td>\n",
       "    </tr>\n",
       "  </tbody>\n",
       "</table>\n",
       "</div>"
      ],
      "text/plain": [
       "     Product CustomerGender    Region  DailyRate LoanStatus360  PercPaid60  \\\n",
       "0  Product B           Male  Region 2  -0.482341        Active    0.121676   \n",
       "1  Product B           Male  Region 3  -0.482341        Active    0.080378   \n",
       "2  Product C         Female  Region 5  -0.482341        Active    0.123862   \n",
       "3  Product B           Male  Region 1  -0.482341        Active    0.121676   \n",
       "4  Product D         Female  Region 2   0.265320        Active    0.122029   \n",
       "\n",
       "   PercPaid360  \n",
       "0     0.820542  \n",
       "1     0.906084  \n",
       "2     0.983333  \n",
       "3     0.922952  \n",
       "4     0.677531  "
      ]
     },
     "execution_count": 73,
     "metadata": {},
     "output_type": "execute_result"
    }
   ],
   "source": [
    "df.head()"
   ]
  },
  {
   "cell_type": "code",
   "execution_count": 74,
   "metadata": {
    "scrolled": true
   },
   "outputs": [],
   "source": [
    "pdummies=pd.get_dummies(df.Product)\n",
    "cgdummies=pd.get_dummies(df.CustomerGender)\n",
    "rdummies=pd.get_dummies(df.Region)\n",
    "lsdummies=pd.get_dummies(df.LoanStatus360)\n",
    "\n",
    "df=pd.concat([df,pdummies,cgdummies,rdummies,lsdummies],axis='columns')\n",
    "df=df.drop(['CustomerGender','Region','LoanStatus360','Product','Product A','Male','Region 1','Finished Payment'],axis='columns')"
   ]
  },
  {
   "cell_type": "code",
   "execution_count": 75,
   "metadata": {},
   "outputs": [
    {
     "data": {
      "text/html": [
       "<div>\n",
       "<style scoped>\n",
       "    .dataframe tbody tr th:only-of-type {\n",
       "        vertical-align: middle;\n",
       "    }\n",
       "\n",
       "    .dataframe tbody tr th {\n",
       "        vertical-align: top;\n",
       "    }\n",
       "\n",
       "    .dataframe thead th {\n",
       "        text-align: right;\n",
       "    }\n",
       "</style>\n",
       "<table border=\"1\" class=\"dataframe\">\n",
       "  <thead>\n",
       "    <tr style=\"text-align: right;\">\n",
       "      <th></th>\n",
       "      <th>DailyRate</th>\n",
       "      <th>PercPaid60</th>\n",
       "      <th>PercPaid360</th>\n",
       "      <th>Product B</th>\n",
       "      <th>Product C</th>\n",
       "      <th>Product D</th>\n",
       "      <th>Product E</th>\n",
       "      <th>Product F</th>\n",
       "      <th>Female</th>\n",
       "      <th>Region 10</th>\n",
       "      <th>...</th>\n",
       "      <th>Region 2</th>\n",
       "      <th>Region 3</th>\n",
       "      <th>Region 4</th>\n",
       "      <th>Region 5</th>\n",
       "      <th>Region 6</th>\n",
       "      <th>Region 7</th>\n",
       "      <th>Region 8</th>\n",
       "      <th>Region 9</th>\n",
       "      <th>Active</th>\n",
       "      <th>Blocked</th>\n",
       "    </tr>\n",
       "  </thead>\n",
       "  <tbody>\n",
       "    <tr>\n",
       "      <th>7482</th>\n",
       "      <td>0.265320</td>\n",
       "      <td>0.631338</td>\n",
       "      <td>0.530914</td>\n",
       "      <td>0</td>\n",
       "      <td>0</td>\n",
       "      <td>1</td>\n",
       "      <td>0</td>\n",
       "      <td>0</td>\n",
       "      <td>0</td>\n",
       "      <td>0</td>\n",
       "      <td>...</td>\n",
       "      <td>0</td>\n",
       "      <td>0</td>\n",
       "      <td>0</td>\n",
       "      <td>0</td>\n",
       "      <td>0</td>\n",
       "      <td>1</td>\n",
       "      <td>0</td>\n",
       "      <td>0</td>\n",
       "      <td>0</td>\n",
       "      <td>1</td>\n",
       "    </tr>\n",
       "    <tr>\n",
       "      <th>7112</th>\n",
       "      <td>0.265320</td>\n",
       "      <td>-0.173899</td>\n",
       "      <td>0.294382</td>\n",
       "      <td>0</td>\n",
       "      <td>0</td>\n",
       "      <td>0</td>\n",
       "      <td>0</td>\n",
       "      <td>0</td>\n",
       "      <td>0</td>\n",
       "      <td>0</td>\n",
       "      <td>...</td>\n",
       "      <td>0</td>\n",
       "      <td>0</td>\n",
       "      <td>0</td>\n",
       "      <td>0</td>\n",
       "      <td>0</td>\n",
       "      <td>0</td>\n",
       "      <td>0</td>\n",
       "      <td>0</td>\n",
       "      <td>0</td>\n",
       "      <td>1</td>\n",
       "    </tr>\n",
       "    <tr>\n",
       "      <th>7467</th>\n",
       "      <td>-0.482341</td>\n",
       "      <td>-0.196908</td>\n",
       "      <td>0.288012</td>\n",
       "      <td>1</td>\n",
       "      <td>0</td>\n",
       "      <td>0</td>\n",
       "      <td>0</td>\n",
       "      <td>0</td>\n",
       "      <td>0</td>\n",
       "      <td>0</td>\n",
       "      <td>...</td>\n",
       "      <td>0</td>\n",
       "      <td>0</td>\n",
       "      <td>0</td>\n",
       "      <td>0</td>\n",
       "      <td>1</td>\n",
       "      <td>0</td>\n",
       "      <td>0</td>\n",
       "      <td>0</td>\n",
       "      <td>0</td>\n",
       "      <td>1</td>\n",
       "    </tr>\n",
       "    <tr>\n",
       "      <th>1334</th>\n",
       "      <td>-0.482341</td>\n",
       "      <td>0.451468</td>\n",
       "      <td>0.787349</td>\n",
       "      <td>1</td>\n",
       "      <td>0</td>\n",
       "      <td>0</td>\n",
       "      <td>0</td>\n",
       "      <td>0</td>\n",
       "      <td>0</td>\n",
       "      <td>0</td>\n",
       "      <td>...</td>\n",
       "      <td>0</td>\n",
       "      <td>0</td>\n",
       "      <td>0</td>\n",
       "      <td>0</td>\n",
       "      <td>1</td>\n",
       "      <td>0</td>\n",
       "      <td>0</td>\n",
       "      <td>0</td>\n",
       "      <td>1</td>\n",
       "      <td>0</td>\n",
       "    </tr>\n",
       "    <tr>\n",
       "      <th>7198</th>\n",
       "      <td>0.265320</td>\n",
       "      <td>-0.025564</td>\n",
       "      <td>0.528090</td>\n",
       "      <td>0</td>\n",
       "      <td>0</td>\n",
       "      <td>0</td>\n",
       "      <td>0</td>\n",
       "      <td>0</td>\n",
       "      <td>1</td>\n",
       "      <td>0</td>\n",
       "      <td>...</td>\n",
       "      <td>0</td>\n",
       "      <td>0</td>\n",
       "      <td>0</td>\n",
       "      <td>0</td>\n",
       "      <td>0</td>\n",
       "      <td>1</td>\n",
       "      <td>0</td>\n",
       "      <td>0</td>\n",
       "      <td>0</td>\n",
       "      <td>1</td>\n",
       "    </tr>\n",
       "  </tbody>\n",
       "</table>\n",
       "<p>5 rows × 28 columns</p>\n",
       "</div>"
      ],
      "text/plain": [
       "      DailyRate  PercPaid60  PercPaid360  Product B  Product C  Product D  \\\n",
       "7482   0.265320    0.631338     0.530914          0          0          1   \n",
       "7112   0.265320   -0.173899     0.294382          0          0          0   \n",
       "7467  -0.482341   -0.196908     0.288012          1          0          0   \n",
       "1334  -0.482341    0.451468     0.787349          1          0          0   \n",
       "7198   0.265320   -0.025564     0.528090          0          0          0   \n",
       "\n",
       "      Product E  Product F  Female  Region 10   ...     Region 2  Region 3  \\\n",
       "7482          0          0       0          0   ...            0         0   \n",
       "7112          0          0       0          0   ...            0         0   \n",
       "7467          0          0       0          0   ...            0         0   \n",
       "1334          0          0       0          0   ...            0         0   \n",
       "7198          0          0       1          0   ...            0         0   \n",
       "\n",
       "      Region 4  Region 5  Region 6  Region 7  Region 8  Region 9  Active  \\\n",
       "7482         0         0         0         1         0         0       0   \n",
       "7112         0         0         0         0         0         0       0   \n",
       "7467         0         0         1         0         0         0       0   \n",
       "1334         0         0         1         0         0         0       1   \n",
       "7198         0         0         0         1         0         0       0   \n",
       "\n",
       "      Blocked  \n",
       "7482        1  \n",
       "7112        1  \n",
       "7467        1  \n",
       "1334        0  \n",
       "7198        1  \n",
       "\n",
       "[5 rows x 28 columns]"
      ]
     },
     "execution_count": 75,
     "metadata": {},
     "output_type": "execute_result"
    }
   ],
   "source": [
    "df.sample(5)"
   ]
  },
  {
   "cell_type": "markdown",
   "metadata": {},
   "source": [
    "## 5. Regression Analysis"
   ]
  },
  {
   "cell_type": "code",
   "execution_count": 76,
   "metadata": {},
   "outputs": [
    {
     "data": {
      "text/plain": [
       "Index(['DailyRate', 'PercPaid60', 'PercPaid360', 'Product B', 'Product C',\n",
       "       'Product D', 'Product E', 'Product F', 'Female', 'Region 10',\n",
       "       'Region 11', 'Region 12', 'Region 13', 'Region 14', 'Region 15',\n",
       "       'Region 16', 'Region 17', 'Region 18', 'Region 2', 'Region 3',\n",
       "       'Region 4', 'Region 5', 'Region 6', 'Region 7', 'Region 8', 'Region 9',\n",
       "       'Active', 'Blocked'],\n",
       "      dtype='object')"
      ]
     },
     "execution_count": 76,
     "metadata": {},
     "output_type": "execute_result"
    }
   ],
   "source": [
    "df.columns"
   ]
  },
  {
   "cell_type": "code",
   "execution_count": 77,
   "metadata": {},
   "outputs": [],
   "source": [
    "#first, I initialize my dependent and independent variables and split them into my test and training datasets\n",
    "\n",
    "X = df[[ 'DailyRate', 'PercPaid60', 'Product B', 'Product C',\n",
    "       'Product D', 'Product E', 'Product F', 'Female', 'Region 10',\n",
    "       'Region 11', 'Region 12', 'Region 13', 'Region 14', 'Region 15',\n",
    "       'Region 16', 'Region 17', 'Region 18', 'Region 2', 'Region 3',\n",
    "       'Region 4', 'Region 5', 'Region 6', 'Region 7', 'Region 8', 'Region 9',\n",
    "       'Blocked', 'Active']]\n",
    "y = df[\"PercPaid360\"]\n",
    "  \n",
    "X_train, X_test, y_train, y_test = train_test_split(X, y, test_size=0.2, random_state=0) "
   ]
  },
  {
   "cell_type": "code",
   "execution_count": 78,
   "metadata": {
    "scrolled": true
   },
   "outputs": [
    {
     "name": "stdout",
     "output_type": "stream",
     "text": [
      "                            OLS Regression Results                            \n",
      "==============================================================================\n",
      "Dep. Variable:            PercPaid360   R-squared:                       0.594\n",
      "Model:                            OLS   Adj. R-squared:                  0.593\n",
      "Method:                 Least Squares   F-statistic:                     397.2\n",
      "Date:                Mon, 13 May 2019   Prob (F-statistic):               0.00\n",
      "Time:                        21:58:03   Log-Likelihood:                 3229.3\n",
      "No. Observations:                7356   AIC:                            -6403.\n",
      "Df Residuals:                    7328   BIC:                            -6209.\n",
      "Df Model:                          27                                         \n",
      "Covariance Type:            nonrobust                                         \n",
      "==============================================================================\n",
      "                 coef    std err          t      P>|t|      [0.025      0.975]\n",
      "------------------------------------------------------------------------------\n",
      "const          0.9270      0.015     63.511      0.000       0.898       0.956\n",
      "DailyRate     -0.0294      0.047     -0.621      0.535      -0.122       0.064\n",
      "PercPaid60     0.0906      0.002     42.198      0.000       0.086       0.095\n",
      "Product B     -0.0050      0.036     -0.141      0.888      -0.075       0.065\n",
      "Product C      0.0114      0.036      0.315      0.753      -0.060       0.082\n",
      "Product D     -0.0196      0.007     -2.794      0.005      -0.033      -0.006\n",
      "Product E      0.1672      0.266      0.628      0.530      -0.355       0.689\n",
      "Product F      0.2264      0.415      0.545      0.586      -0.587       1.040\n",
      "Female        -0.0065      0.004     -1.683      0.092      -0.014       0.001\n",
      "Region 10     -0.0105      0.028     -0.379      0.705      -0.065       0.044\n",
      "Region 11      0.0392      0.046      0.860      0.390      -0.050       0.128\n",
      "Region 12      0.0036      0.028      0.130      0.897      -0.051       0.059\n",
      "Region 13     -0.2469      0.030     -8.219      0.000      -0.306      -0.188\n",
      "Region 14     -0.0243      0.035     -0.684      0.494      -0.094       0.045\n",
      "Region 15      0.0447      0.036      1.233      0.218      -0.026       0.116\n",
      "Region 16      0.0520      0.052      0.992      0.321      -0.051       0.155\n",
      "Region 17     -0.0481      0.044     -1.102      0.270      -0.134       0.037\n",
      "Region 18      0.0547      0.042      1.299      0.194      -0.028       0.137\n",
      "Region 2      -0.0137      0.007     -1.991      0.047      -0.027      -0.000\n",
      "Region 3      -0.0032      0.006     -0.493      0.622      -0.016       0.009\n",
      "Region 4       0.0223      0.009      2.534      0.011       0.005       0.040\n",
      "Region 5       0.0187      0.014      1.382      0.167      -0.008       0.045\n",
      "Region 6       0.0084      0.006      1.414      0.157      -0.003       0.020\n",
      "Region 7      -0.0088      0.009     -1.021      0.307      -0.026       0.008\n",
      "Region 8       0.0217      0.028      0.785      0.433      -0.033       0.076\n",
      "Region 9       0.0059      0.031      0.192      0.848      -0.054       0.066\n",
      "Blocked       -0.5586      0.008    -70.261      0.000      -0.574      -0.543\n",
      "Active        -0.1505      0.005    -28.700      0.000      -0.161      -0.140\n",
      "==============================================================================\n",
      "Omnibus:                      531.712   Durbin-Watson:                   2.032\n",
      "Prob(Omnibus):                  0.000   Jarque-Bera (JB):              652.725\n",
      "Skew:                          -0.725   Prob(JB):                    1.83e-142\n",
      "Kurtosis:                       3.171   Cond. No.                         404.\n",
      "==============================================================================\n",
      "\n",
      "Warnings:\n",
      "[1] Standard Errors assume that the covariance matrix of the errors is correctly specified.\n"
     ]
    }
   ],
   "source": [
    "import statsmodels.api as sm\n",
    "from scipy import stats\n",
    "\n",
    "\n",
    "X2 = sm.add_constant(X_train)\n",
    "est = sm.OLS(y_train, X2)\n",
    "est2 = est.fit()\n",
    "print(est2.summary())"
   ]
  },
  {
   "cell_type": "markdown",
   "metadata": {},
   "source": [
    "## Model Evaluation"
   ]
  },
  {
   "cell_type": "markdown",
   "metadata": {},
   "source": [
    "#### R-Squared\n",
    "The model yeilded an Rsquared value of 0.594. This means that 59.4% of the variation obsereved in the data can be explained by the model. The model's fit may be attributed to the following:\n",
    " \n",
    "1. Though some factors like region and product seemed to be independently significant, they proved to only be partially significant when considering other factors in the model. That is- some regions were significant(had a p-value of less than 0.05) whereas others were statistically insignificant. The latter was the same for the products. A solution to this problem would be to classify the regions in a more efficient manner. Analysis of the variable showed that it was highly skewed which could have affected the results of the model. Similarly, dividing the products into productlines may have been a better approach.\n",
    " \n",
    "2. The constant in the model is strongly statistically significant which could point to unobserved factors. Increasing relevant customer attributes such as age, income or occupation is likely to improve the model.\n",
    " \n",
    "3. It is also likely that the myriad of factor included in the model shifted the relationship away from the simple Linear relationship and towards a more complex relationship. A more complex polynomial model may improve the results of the model.\n",
    "\n",
    "#### F-Test\n",
    "The null and alternative hypotheses of the F-test are as follows:\n",
    "H0: The fit of the intercept-only model and your model are equal (the model doesn't explain the dependent variable)\n",
    "Ha: The fit of the intercept-only model is significantly reduced compared to your model (the model explains the dependent variable)\n",
    "Since the p-value for the F-test is 0.00 we fail to accept the null hypothesis and therefore we can say that we are 99% confident that the model has some explanatory power.\n"
   ]
  },
  {
   "cell_type": "markdown",
   "metadata": {},
   "source": [
    "## Model Interpretation & Business Implications"
   ]
  },
  {
   "cell_type": "markdown",
   "metadata": {},
   "source": [
    "The significant Variables from the model are as follows:\n",
    "\n",
    "##### 1. PercPaid60 99% CI\n",
    "\n",
    "Based on the model, we can be 99% confident that the customer's adherance to the payment plan as at the 60th day is a significant determinant of the percentage of which a customer will have paid as at the 360th day. An increase in the percentage paid as at the 60th day by 1% increases percentage paid as at the 360th day by 9%.\n",
    "The business implication of this finding would be to encourage customers to adhere to the payment plans using reminders or reward initiatives.\n",
    "\n",
    "##### 2. Products (Product D) 99% CI\n",
    "\n",
    "Similarly the model reveals that we can be 99% confident that purchasing product D reduces a customer's percentage paid as at the 360th day by 1.96% in comparison to purchases of product A.\n",
    "The business implication of this would be to limit the sale of product D to more credit worthy customers who have a higher income or increase the deposit required to purchase product D.\n",
    "\n",
    "##### 3. Gender 90% CI\n",
    "\n",
    "We are also 90% confident that female customers pay 0.65% less of their total loan amount in comparison to their male counterparts. The business implication would be to create marketing strategies towards encouraging women to pay back loans or to target the products more towards men.\n",
    "\n",
    "##### 4. Region(13 99%CI,2 95%CI,4 95%CI)\n",
    "\n",
    "From the model, we can be 99% confident that customers in Region 13 pay 24.7% less of their total loan amount in comparison to other region 1. Similarly, we can be 95% confident that customers in Region 2 pay 1.4% less of their loans than customers in region 1. Lastly, we can be 95% certain that customers in Region 4 pay 2.2% more of their loans in comparison to other regions.\n",
    "The business implication would be to create targetted campaigns advertisements to regions 2 and 13 to encourage customers in that region to adhere t their payments. They could also introduce payment incentives in these areas such as discounts on consistent payments. Futher, the company could increase sales to region 4 since they are more likely to pay bac their loans.\n",
    "\n",
    "##### 5. Loan Status 99% CI\n",
    "\n",
    "We can be 99% confident that blocked customers pay 55.9% less than other customers. Further, we are 99% confident that active users pay 15.5% less of their loans in comparison to those that have fulfilled their payments. "
   ]
  }
 ],
 "metadata": {
  "kernelspec": {
   "display_name": "Python 3",
   "language": "python",
   "name": "python3"
  },
  "language_info": {
   "codemirror_mode": {
    "name": "ipython",
    "version": 3
   },
   "file_extension": ".py",
   "mimetype": "text/x-python",
   "name": "python",
   "nbconvert_exporter": "python",
   "pygments_lexer": "ipython3",
   "version": "3.7.1"
  }
 },
 "nbformat": 4,
 "nbformat_minor": 2
}
